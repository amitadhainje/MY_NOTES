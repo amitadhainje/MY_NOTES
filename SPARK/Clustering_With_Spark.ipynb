{
  "nbformat": 4,
  "nbformat_minor": 0,
  "metadata": {
    "colab": {
      "name": "Clustering_With_Spark.ipynb",
      "provenance": [],
      "collapsed_sections": []
    },
    "kernelspec": {
      "name": "python3",
      "display_name": "Python 3"
    }
  },
  "cells": [
    {
      "cell_type": "markdown",
      "metadata": {
        "id": "-x6SIRT7X7a-",
        "colab_type": "text"
      },
      "source": [
        "**CLUSTERING WITH SPARK**<br />\n",
        "Clustering helps in grouping the unlabelled data together. The main problem while clustering is prediction of the number of clusters \"k\". We need domain knowledge to decide the \"k\" value. \"Elbow method\" can be used to compute the \"k\" value.\n",
        "<br />*Extra Reading - Book name - Introduction to Statistical Learning by Gareth James- Chapter 10*"
      ]
    },
    {
      "cell_type": "code",
      "metadata": {
        "id": "O569a9QeS9Xx",
        "colab_type": "code",
        "outputId": "a27ea30c-aa32-458b-e827-3a0ec20a58cc",
        "colab": {
          "base_uri": "https://localhost:8080/",
          "height": 272
        }
      },
      "source": [
        "%%time\n",
        "#spark installation\n",
        "!pip install pyspark\n",
        "!apt-get install openjdk-8-jdk-headless -qq > /dev/null\n",
        "!wget -q https://downloads.apache.org/spark/spark-2.4.5/spark-2.4.5-bin-hadoop2.7.tgz\n",
        "!tar xf spark-2.4.5-bin-hadoop2.7.tgz\n",
        "!pip install -q findspark"
      ],
      "execution_count": 1,
      "outputs": [
        {
          "output_type": "stream",
          "text": [
            "Collecting pyspark\n",
            "\u001b[?25l  Downloading https://files.pythonhosted.org/packages/9a/5a/271c416c1c2185b6cb0151b29a91fff6fcaed80173c8584ff6d20e46b465/pyspark-2.4.5.tar.gz (217.8MB)\n",
            "\u001b[K     |████████████████████████████████| 217.8MB 40kB/s \n",
            "\u001b[?25hCollecting py4j==0.10.7\n",
            "\u001b[?25l  Downloading https://files.pythonhosted.org/packages/e3/53/c737818eb9a7dc32a7cd4f1396e787bd94200c3997c72c1dbe028587bd76/py4j-0.10.7-py2.py3-none-any.whl (197kB)\n",
            "\u001b[K     |████████████████████████████████| 204kB 41.2MB/s \n",
            "\u001b[?25hBuilding wheels for collected packages: pyspark\n",
            "  Building wheel for pyspark (setup.py) ... \u001b[?25l\u001b[?25hdone\n",
            "  Created wheel for pyspark: filename=pyspark-2.4.5-py2.py3-none-any.whl size=218257927 sha256=3c09d10ce5b391b57986a1ddd06985bd480451902e74ebbb5cd3d306c317fd68\n",
            "  Stored in directory: /root/.cache/pip/wheels/bf/db/04/61d66a5939364e756eb1c1be4ec5bdce6e04047fc7929a3c3c\n",
            "Successfully built pyspark\n",
            "Installing collected packages: py4j, pyspark\n",
            "Successfully installed py4j-0.10.7 pyspark-2.4.5\n",
            "CPU times: user 547 ms, sys: 137 ms, total: 684 ms\n",
            "Wall time: 1min 14s\n"
          ],
          "name": "stdout"
        }
      ]
    },
    {
      "cell_type": "code",
      "metadata": {
        "id": "q-zpYYG6Y6_r",
        "colab_type": "code",
        "colab": {}
      },
      "source": [
        "import os\n",
        "os.environ[\"JAVA_HOME\"] = \"/usr/lib/jvm/java-8-openjdk-amd64\"\n",
        "os.environ[\"SPARK_HOME\"] = \"/content/spark-2.4.5-bin-hadoop2.7\"\n",
        "\n",
        "\n",
        "import findspark\n",
        "findspark.init()\n",
        "from pyspark.sql import SparkSession\n",
        "spark = SparkSession.builder.appName(\"Clustering\").getOrCreate()"
      ],
      "execution_count": 0,
      "outputs": []
    },
    {
      "cell_type": "code",
      "metadata": {
        "id": "bfluRMe2bAPT",
        "colab_type": "code",
        "outputId": "bd449eb6-164e-4874-9419-dc1799d39608",
        "colab": {
          "resources": {
            "http://localhost:8080/nbextensions/google.colab/files.js": {
              "data": "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",
              "ok": true,
              "headers": [
                [
                  "content-type",
                  "application/javascript"
                ]
              ],
              "status": 200,
              "status_text": ""
            }
          },
          "base_uri": "https://localhost:8080/",
          "height": 91
        }
      },
      "source": [
        "from google.colab import files\n",
        "files.upload()"
      ],
      "execution_count": 4,
      "outputs": [
        {
          "output_type": "display_data",
          "data": {
            "text/html": [
              "\n",
              "     <input type=\"file\" id=\"files-4a965f58-4d71-4b9d-a7d3-902bbbd733a0\" name=\"files[]\" multiple disabled />\n",
              "     <output id=\"result-4a965f58-4d71-4b9d-a7d3-902bbbd733a0\">\n",
              "      Upload widget is only available when the cell has been executed in the\n",
              "      current browser session. Please rerun this cell to enable.\n",
              "      </output>\n",
              "      <script src=\"/nbextensions/google.colab/files.js\"></script> "
            ],
            "text/plain": [
              "<IPython.core.display.HTML object>"
            ]
          },
          "metadata": {
            "tags": []
          }
        },
        {
          "output_type": "stream",
          "text": [
            "Saving sample_kmeans_data.txt to sample_kmeans_data.txt\n"
          ],
          "name": "stdout"
        },
        {
          "output_type": "execute_result",
          "data": {
            "text/plain": [
              "{'sample_kmeans_data.txt': b'0 1:0.0 2:0.0 3:0.0\\n1 1:0.1 2:0.1 3:0.1\\n2 1:0.2 2:0.2 3:0.2\\n3 1:9.0 2:9.0 3:9.0\\n4 1:9.1 2:9.1 3:9.1\\n5 1:9.2 2:9.2 3:9.2\\n'}"
            ]
          },
          "metadata": {
            "tags": []
          },
          "execution_count": 4
        }
      ]
    },
    {
      "cell_type": "code",
      "metadata": {
        "id": "hY6nCOObbJPm",
        "colab_type": "code",
        "colab": {
          "base_uri": "https://localhost:8080/",
          "height": 204
        },
        "outputId": "e5b6f72f-c39a-4bb2-c62c-d0a3b4f8e53b"
      },
      "source": [
        "sampleDf = spark.read.format('libsvm').load(\"sample_kmeans_data.txt\")\n",
        "sampleDf.show()"
      ],
      "execution_count": 5,
      "outputs": [
        {
          "output_type": "stream",
          "text": [
            "+-----+--------------------+\n",
            "|label|            features|\n",
            "+-----+--------------------+\n",
            "|  0.0|           (3,[],[])|\n",
            "|  1.0|(3,[0,1,2],[0.1,0...|\n",
            "|  2.0|(3,[0,1,2],[0.2,0...|\n",
            "|  3.0|(3,[0,1,2],[9.0,9...|\n",
            "|  4.0|(3,[0,1,2],[9.1,9...|\n",
            "|  5.0|(3,[0,1,2],[9.2,9...|\n",
            "+-----+--------------------+\n",
            "\n"
          ],
          "name": "stdout"
        }
      ]
    },
    {
      "cell_type": "code",
      "metadata": {
        "id": "tCHlQ9XbbbxI",
        "colab_type": "code",
        "colab": {
          "base_uri": "https://localhost:8080/",
          "height": 204
        },
        "outputId": "a0af5b51-17aa-474f-993e-94fe5d2ac003"
      },
      "source": [
        "finalData = sampleDf.select('features')\n",
        "finalData.show(5)"
      ],
      "execution_count": 6,
      "outputs": [
        {
          "output_type": "stream",
          "text": [
            "+--------------------+\n",
            "|            features|\n",
            "+--------------------+\n",
            "|           (3,[],[])|\n",
            "|(3,[0,1,2],[0.1,0...|\n",
            "|(3,[0,1,2],[0.2,0...|\n",
            "|(3,[0,1,2],[9.0,9...|\n",
            "|(3,[0,1,2],[9.1,9...|\n",
            "+--------------------+\n",
            "only showing top 5 rows\n",
            "\n"
          ],
          "name": "stdout"
        }
      ]
    },
    {
      "cell_type": "code",
      "metadata": {
        "id": "BkFF3nmUb5Ei",
        "colab_type": "code",
        "colab": {
          "base_uri": "https://localhost:8080/",
          "height": 102
        },
        "outputId": "a214adde-669e-4aba-e648-f96f36b7bab9"
      },
      "source": [
        "from pyspark.ml.clustering import KMeans\n",
        "\n",
        "# Trains a k-means model.\n",
        "kmeans = KMeans().setK(3).setSeed(1)\n",
        "model = kmeans.fit(finalData)\n",
        "\n",
        "# Evaluate clustering by computing Within Set Sum of Squared Errors.\n",
        "wssse = model.computeCost(finalData)\n",
        "print(\"Within Set Sum of Squared Errors = \" + str(wssse))\n",
        "\n",
        "# Shows the result.\n",
        "centers = model.clusterCenters()\n",
        "print(\"Cluster Centers: \")\n",
        "for center in centers:\n",
        "    print(center)"
      ],
      "execution_count": 7,
      "outputs": [
        {
          "output_type": "stream",
          "text": [
            "Within Set Sum of Squared Errors = 0.07499999999994544\n",
            "Cluster Centers: \n",
            "[9.1 9.1 9.1]\n",
            "[0.05 0.05 0.05]\n",
            "[0.2 0.2 0.2]\n"
          ],
          "name": "stdout"
        }
      ]
    },
    {
      "cell_type": "code",
      "metadata": {
        "id": "fR48RdkHdNUR",
        "colab_type": "code",
        "colab": {
          "base_uri": "https://localhost:8080/",
          "height": 204
        },
        "outputId": "d1cc9b74-8c8f-49e3-ec70-18db9e2df7da"
      },
      "source": [
        "results = model.transform(finalData)\n",
        "results.show()"
      ],
      "execution_count": 8,
      "outputs": [
        {
          "output_type": "stream",
          "text": [
            "+--------------------+----------+\n",
            "|            features|prediction|\n",
            "+--------------------+----------+\n",
            "|           (3,[],[])|         1|\n",
            "|(3,[0,1,2],[0.1,0...|         1|\n",
            "|(3,[0,1,2],[0.2,0...|         2|\n",
            "|(3,[0,1,2],[9.0,9...|         0|\n",
            "|(3,[0,1,2],[9.1,9...|         0|\n",
            "|(3,[0,1,2],[9.2,9...|         0|\n",
            "+--------------------+----------+\n",
            "\n"
          ],
          "name": "stdout"
        }
      ]
    },
    {
      "cell_type": "code",
      "metadata": {
        "id": "W8u2cUwXeUaM",
        "colab_type": "code",
        "colab": {
          "resources": {
            "http://localhost:8080/nbextensions/google.colab/files.js": {
              "data": "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",
              "ok": true,
              "headers": [
                [
                  "content-type",
                  "application/javascript"
                ]
              ],
              "status": 200,
              "status_text": ""
            }
          },
          "base_uri": "https://localhost:8080/",
          "height": 111
        },
        "outputId": "0d7d66e6-2d41-4050-a5e1-558ba87dcca6"
      },
      "source": [
        "from google.colab import files\n",
        "files.upload()"
      ],
      "execution_count": 9,
      "outputs": [
        {
          "output_type": "display_data",
          "data": {
            "text/html": [
              "\n",
              "     <input type=\"file\" id=\"files-49a6a42d-8066-45c6-98ec-db9dc5317e93\" name=\"files[]\" multiple disabled />\n",
              "     <output id=\"result-49a6a42d-8066-45c6-98ec-db9dc5317e93\">\n",
              "      Upload widget is only available when the cell has been executed in the\n",
              "      current browser session. Please rerun this cell to enable.\n",
              "      </output>\n",
              "      <script src=\"/nbextensions/google.colab/files.js\"></script> "
            ],
            "text/plain": [
              "<IPython.core.display.HTML object>"
            ]
          },
          "metadata": {
            "tags": []
          }
        },
        {
          "output_type": "stream",
          "text": [
            "Saving seeds_dataset.csv to seeds_dataset.csv\n"
          ],
          "name": "stdout"
        },
        {
          "output_type": "execute_result",
          "data": {
            "text/plain": [
              "{'seeds_dataset.csv': b'area,perimeter,compactness,length_of_kernel,width_of_kernel,asymmetry_coefficient,length_of_groove\\n15.26,14.84,0.871,5.763,3.312,2.221,5.22\\n14.88,14.57,0.8811,5.553999999999999,3.333,1.018,4.956\\n14.29,14.09,0.905,5.291,3.3369999999999997,2.699,4.825\\n13.84,13.94,0.8955,5.324,3.3789999999999996,2.259,4.805\\n16.14,14.99,0.9034,5.6579999999999995,3.562,1.355,5.175\\n14.38,14.21,0.8951,5.386,3.312,2.4619999999999997,4.956\\n14.69,14.49,0.8799,5.563,3.259,3.5860000000000003,5.218999999999999\\n14.11,14.1,0.8911,5.42,3.302,2.7,5.0\\n16.63,15.46,0.8747,6.053,3.465,2.04,5.877000000000001\\n16.44,15.25,0.888,5.8839999999999995,3.505,1.969,5.5329999999999995\\n15.26,14.85,0.8696,5.7139999999999995,3.242,4.543,5.314\\n14.03,14.16,0.8796,5.438,3.201,1.7169999999999999,5.001\\n13.89,14.02,0.888,5.439,3.199,3.986,4.738\\n13.78,14.06,0.8759,5.479,3.156,3.136,4.872\\n13.74,14.05,0.8744,5.482,3.114,2.932,4.825\\n14.59,14.28,0.8993,5.351,3.333,4.185,4.781000000000001\\n13.99,13.83,0.9183,5.119,3.383,5.234,4.781000000000001\\n15.69,14.75,0.9058,5.527,3.514,1.599,5.046\\n14.7,14.21,0.9153,5.205,3.466,1.767,4.649\\n12.72,13.57,0.8686,5.226,3.049,4.102,4.914\\n14.16,14.4,0.8584,5.6579999999999995,3.1289999999999996,3.072,5.176\\n14.11,14.26,0.8722,5.52,3.168,2.688,5.218999999999999\\n15.88,14.9,0.8988,5.617999999999999,3.5069999999999997,0.765,5.091\\n12.08,13.23,0.8664,5.099,2.9360000000000004,1.415,4.961\\n15.01,14.76,0.8657,5.789,3.245,1.791,5.001\\n16.19,15.16,0.8849,5.832999999999999,3.4210000000000003,0.903,5.307\\n13.02,13.76,0.8641,5.395,3.0260000000000002,3.373,4.825\\n12.74,13.67,0.8564,5.395,2.9560000000000004,2.504,4.869\\n14.11,14.18,0.882,5.541,3.221,2.7539999999999996,5.038\\n13.45,14.02,0.8604,5.516,3.065,3.531,5.0969999999999995\\n13.16,13.82,0.8662,5.454,2.975,0.855,5.056\\n15.49,14.94,0.8724,5.757000000000001,3.3710000000000004,3.412,5.228\\n14.09,14.41,0.8529,5.7170000000000005,3.1860000000000004,3.92,5.2989999999999995\\n13.94,14.17,0.8728,5.585,3.15,2.124,5.012\\n15.05,14.68,0.8779,5.712000000000001,3.3280000000000003,2.129,5.36\\n16.12,15.0,0.9,5.709,3.485,2.27,5.443\\n16.2,15.27,0.8734,5.8260000000000005,3.464,2.823,5.527\\n17.08,15.38,0.9079,5.832000000000001,3.6830000000000003,2.9560000000000004,5.484\\n14.8,14.52,0.8823,5.656000000000001,3.2880000000000003,3.112,5.309\\n14.28,14.17,0.8944,5.397,3.298,6.685,5.001\\n13.54,13.85,0.8871,5.348,3.156,2.5869999999999997,5.178\\n13.5,13.85,0.8852,5.351,3.158,2.249,5.176\\n13.16,13.55,0.9009,5.138,3.201,2.461,4.783\\n15.5,14.86,0.882,5.877000000000001,3.3960000000000004,4.711,5.528\\n15.11,14.54,0.8986,5.579,3.4619999999999997,3.128,5.18\\n13.8,14.04,0.8794,5.376,3.155,1.56,4.961\\n15.36,14.76,0.8861,5.7010000000000005,3.3930000000000002,1.367,5.132000000000001\\n14.99,14.56,0.8883,5.57,3.377,2.958,5.175\\n14.79,14.52,0.8819,5.545,3.2910000000000004,2.7039999999999997,5.111000000000001\\n14.86,14.67,0.8676,5.678,3.258,2.129,5.351\\n14.43,14.4,0.8751,5.585,3.272,3.975,5.144\\n15.78,14.91,0.8923,5.6739999999999995,3.4339999999999997,5.593,5.136\\n14.49,14.61,0.8538,5.715,3.113,4.1160000000000005,5.396\\n14.33,14.28,0.8831,5.504,3.199,3.3280000000000003,5.224\\n14.52,14.6,0.8557,5.7410000000000005,3.113,1.4809999999999999,5.487\\n15.03,14.77,0.8658,5.702000000000001,3.2119999999999997,1.933,5.439\\n14.46,14.35,0.8818,5.388,3.377,2.802,5.044\\n14.92,14.43,0.9006,5.3839999999999995,3.412,1.1420000000000001,5.088\\n15.38,14.77,0.8857,5.662000000000001,3.4189999999999996,1.999,5.222\\n12.11,13.47,0.8392,5.159,3.032,1.5019999999999998,4.519\\n11.42,12.86,0.8683,5.008,2.85,2.7,4.607\\n11.23,12.63,0.884,4.902,2.8789999999999996,2.269,4.703\\n12.36,13.19,0.8923,5.0760000000000005,3.042,3.22,4.605\\n13.22,13.84,0.868,5.395,3.07,4.157,5.088\\n12.78,13.57,0.8716,5.2620000000000005,3.0260000000000002,1.176,4.782\\n12.88,13.5,0.8879,5.138999999999999,3.1189999999999998,2.352,4.607\\n14.34,14.37,0.8726,5.63,3.19,1.3130000000000002,5.15\\n14.01,14.29,0.8625,5.609,3.158,2.217,5.132000000000001\\n14.37,14.39,0.8726,5.569,3.153,1.464,5.3\\n12.73,13.75,0.8458,5.412000000000001,2.8819999999999997,3.533,5.067\\n17.63,15.98,0.8673,6.191,3.5610000000000004,4.0760000000000005,6.06\\n16.84,15.67,0.8623,5.997999999999999,3.484,4.675,5.877000000000001\\n17.26,15.73,0.8763,5.978,3.594,4.539,5.791\\n19.11,16.26,0.9081,6.154,3.93,2.9360000000000004,6.079\\n16.82,15.51,0.8786,6.017,3.486,4.004,5.841\\n16.77,15.62,0.8638,5.9270000000000005,3.438,4.92,5.795\\n17.32,15.91,0.8599,6.064,3.403,3.824,5.922000000000001\\n20.71,17.23,0.8763,6.579,3.8139999999999996,4.4510000000000005,6.4510000000000005\\n18.94,16.49,0.875,6.445,3.639,5.064,6.362\\n17.12,15.55,0.8892,5.85,3.5660000000000003,2.858,5.746\\n16.53,15.34,0.8823,5.875,3.467,5.532,5.88\\n18.72,16.19,0.8977,6.006,3.8569999999999998,5.324,5.879\\n20.2,16.89,0.8894,6.285,3.864,5.172999999999999,6.187\\n19.57,16.74,0.8779,6.3839999999999995,3.772,1.472,6.273\\n19.51,16.71,0.878,6.3660000000000005,3.801,2.9619999999999997,6.185\\n18.27,16.09,0.887,6.172999999999999,3.6510000000000002,2.443,6.197\\n18.88,16.26,0.8969,6.084,3.764,1.649,6.109\\n18.98,16.66,0.8590000000000001,6.5489999999999995,3.67,3.6910000000000003,6.497999999999999\\n21.18,17.21,0.8989,6.5729999999999995,4.033,5.78,6.231\\n20.88,17.05,0.9031,6.45,4.032,5.016,6.321000000000001\\n20.1,16.99,0.8746,6.581,3.785,1.955,6.449\\n18.76,16.2,0.8984,6.172000000000001,3.7960000000000003,3.12,6.053\\n18.81,16.29,0.8906,6.272,3.693,3.237,6.053\\n18.59,16.05,0.9066,6.037000000000001,3.86,6.001,5.877000000000001\\n18.36,16.52,0.8452,6.666,3.485,4.933,6.4479999999999995\\n16.87,15.65,0.8648,6.138999999999999,3.463,3.696,5.9670000000000005\\n19.31,16.59,0.8815,6.341,3.81,3.477,6.2379999999999995\\n18.98,16.57,0.8687,6.449,3.552,2.144,6.452999999999999\\n18.17,16.26,0.8637,6.271,3.512,2.853,6.273\\n18.72,16.34,0.8809999999999999,6.218999999999999,3.6839999999999997,2.188,6.097\\n16.41,15.25,0.8866,5.718,3.525,4.217,5.617999999999999\\n17.99,15.86,0.8992,5.89,3.694,2.068,5.837000000000001\\n19.46,16.5,0.8985,6.1129999999999995,3.892,4.308,6.0089999999999995\\n19.18,16.63,0.8717,6.369,3.681,3.3569999999999998,6.229\\n18.95,16.42,0.8829,6.247999999999999,3.755,3.3680000000000003,6.148\\n18.83,16.29,0.8917,6.037000000000001,3.786,2.553,5.879\\n18.85,16.17,0.9056,6.152,3.806,2.843,6.2\\n17.63,15.86,0.88,6.0329999999999995,3.573,3.747,5.928999999999999\\n19.94,16.92,0.8752,6.675,3.763,3.252,6.55\\n18.55,16.22,0.8865,6.153,3.674,1.7380000000000002,5.894\\n18.45,16.12,0.8921,6.107,3.7689999999999997,2.235,5.794\\n19.38,16.72,0.8716,6.303,3.7910000000000004,3.678,5.965\\n19.13,16.31,0.9035,6.183,3.9019999999999997,2.109,5.9239999999999995\\n19.14,16.61,0.8722,6.2589999999999995,3.737,6.682,6.053\\n20.97,17.25,0.8859,6.563,3.991,4.677,6.316\\n19.06,16.45,0.8854,6.416,3.719,2.248,6.162999999999999\\n18.96,16.2,0.9077,6.051,3.897,4.334,5.75\\n19.15,16.45,0.889,6.245,3.815,3.0839999999999996,6.185\\n18.89,16.23,0.9008,6.227,3.7689999999999997,3.639,5.966\\n20.03,16.9,0.8811,6.492999999999999,3.8569999999999998,3.063,6.32\\n20.24,16.91,0.8897,6.315,3.9619999999999997,5.901,6.188\\n18.14,16.12,0.8772,6.059,3.563,3.6189999999999998,6.011\\n16.17,15.38,0.8588,5.7620000000000005,3.387,4.2860000000000005,5.702999999999999\\n18.43,15.97,0.9077,5.98,3.7710000000000004,2.984,5.905\\n15.99,14.89,0.9064,5.3629999999999995,3.582,3.3360000000000003,5.144\\n18.75,16.18,0.8999,6.111000000000001,3.8689999999999998,4.188,5.992000000000001\\n18.65,16.41,0.8698,6.285,3.594,4.391,6.102\\n17.98,15.85,0.8993,5.979,3.687,2.2569999999999997,5.919\\n20.16,17.03,0.8735,6.513,3.773,1.91,6.185\\n17.55,15.66,0.8991,5.791,3.69,5.3660000000000005,5.6610000000000005\\n18.3,15.89,0.9108,5.979,3.755,2.8369999999999997,5.962000000000001\\n18.94,16.32,0.8942,6.144,3.825,2.908,5.949\\n15.38,14.9,0.8706,5.8839999999999995,3.2680000000000002,4.462,5.795\\n16.16,15.33,0.8644,5.845,3.395,4.266,5.795\\n15.56,14.89,0.8823,5.776,3.408,4.9719999999999995,5.847\\n15.38,14.66,0.899,5.477,3.465,3.6,5.439\\n17.36,15.76,0.8785,6.145,3.574,3.5260000000000002,5.971\\n15.57,15.15,0.8527,5.92,3.2310000000000003,2.64,5.879\\n15.6,15.11,0.858,5.832000000000001,3.286,2.725,5.752000000000001\\n16.23,15.18,0.885,5.872000000000001,3.472,3.7689999999999997,5.922000000000001\\n13.07,13.92,0.848,5.472,2.9939999999999998,5.303999999999999,5.395\\n13.32,13.94,0.8613,5.541,3.073,7.035,5.44\\n13.34,13.95,0.862,5.388999999999999,3.074,5.995,5.307\\n12.22,13.32,0.8652,5.224,2.967,5.468999999999999,5.221\\n11.82,13.4,0.8274,5.314,2.7769999999999997,4.471,5.178\\n11.21,13.13,0.8167,5.279,2.687,6.169,5.275\\n11.43,13.13,0.8335,5.176,2.719,2.221,5.132000000000001\\n12.49,13.46,0.8658,5.267,2.967,4.421,5.002\\n12.7,13.71,0.8491,5.386,2.911,3.26,5.316\\n10.79,12.93,0.8107,5.317,2.648,5.462000000000001,5.194\\n11.83,13.23,0.8496,5.263,2.84,5.195,5.307\\n12.01,13.52,0.8249,5.405,2.7760000000000002,6.992000000000001,5.27\\n12.26,13.6,0.8333,5.4079999999999995,2.833,4.756,5.36\\n11.18,13.04,0.8266,5.22,2.693,3.332,5.001\\n11.36,13.05,0.8382,5.175,2.755,4.048,5.263\\n11.19,13.05,0.8253,5.25,2.675,5.813,5.218999999999999\\n11.34,12.87,0.8596,5.053,2.8489999999999998,3.347,5.003\\n12.13,13.73,0.8081,5.394,2.745,4.825,5.22\\n11.75,13.52,0.8082,5.444,2.678,4.378,5.31\\n11.49,13.22,0.8263,5.303999999999999,2.695,5.388,5.31\\n12.54,13.67,0.8425,5.4510000000000005,2.8789999999999996,3.082,5.4910000000000005\\n12.02,13.33,0.8503,5.35,2.81,4.271,5.308\\n12.05,13.41,0.8416,5.267,2.847,4.988,5.046\\n12.55,13.57,0.8558,5.332999999999999,2.968,4.419,5.176\\n11.14,12.79,0.8558,5.011,2.7939999999999996,6.388,5.0489999999999995\\n12.1,13.15,0.8793,5.105,2.9410000000000003,2.201,5.056\\n12.44,13.59,0.8462,5.319,2.897,4.9239999999999995,5.27\\n12.15,13.45,0.8443,5.417000000000001,2.8369999999999997,3.638,5.337999999999999\\n11.35,13.12,0.8291,5.176,2.668,4.337,5.132000000000001\\n11.24,13.0,0.8359,5.09,2.715,3.5210000000000004,5.088\\n11.02,13.0,0.8189,5.325,2.701,6.735,5.162999999999999\\n11.55,13.1,0.8455,5.167000000000001,2.845,6.715,4.956\\n11.27,12.97,0.8419,5.088,2.763,4.309,5.0\\n11.4,13.08,0.8375,5.136,2.763,5.587999999999999,5.0889999999999995\\n10.83,12.96,0.8099,5.278,2.641,5.182,5.185\\n10.8,12.57,0.8590000000000001,4.981,2.821,4.773,5.063\\n11.26,13.01,0.8355,5.186,2.71,5.335,5.092\\n10.74,12.73,0.8329,5.145,2.642,4.702,4.963\\n11.48,13.05,0.8473,5.18,2.758,5.876,5.002\\n12.21,13.47,0.8453,5.357,2.8930000000000002,1.661,5.178\\n11.41,12.95,0.856,5.09,2.775,4.957,4.825\\n12.46,13.41,0.8706,5.236000000000001,3.017,4.987,5.147\\n12.19,13.36,0.8579,5.24,2.909,4.857,5.1579999999999995\\n11.65,13.07,0.8575,5.1080000000000005,2.85,5.209,5.135\\n12.89,13.77,0.8541,5.495,3.0260000000000002,6.185,5.316\\n11.56,13.31,0.8198,5.3629999999999995,2.6830000000000003,4.062,5.182\\n11.81,13.45,0.8198,5.412999999999999,2.716,4.898,5.352\\n10.91,12.8,0.8372,5.088,2.675,4.178999999999999,4.956\\n11.23,12.82,0.8594,5.0889999999999995,2.821,7.524,4.957\\n10.59,12.41,0.8648,4.899,2.787,4.975,4.794\\n10.93,12.8,0.8390000000000001,5.046,2.717,5.398,5.045\\n11.27,12.86,0.8563,5.091,2.804,3.985,5.001\\n11.87,13.02,0.8795,5.132000000000001,2.9530000000000003,3.597,5.132000000000001\\n10.82,12.83,0.8256,5.18,2.63,4.853,5.0889999999999995\\n12.11,13.27,0.8639,5.236000000000001,2.975,4.132,5.012\\n12.8,13.47,0.8859999999999999,5.16,3.1260000000000003,4.873,4.914\\n12.79,13.53,0.8786,5.224,3.054,5.483,4.958\\n13.37,13.78,0.8849,5.32,3.128,4.67,5.091\\n12.62,13.67,0.8481,5.41,2.911,3.306,5.231\\n12.76,13.38,0.8964,5.073,3.155,2.8280000000000003,4.83\\n12.38,13.44,0.8609,5.218999999999999,2.989,5.472,5.045\\n12.67,13.32,0.8977,4.984,3.135,2.3,4.745\\n11.18,12.72,0.868,5.0089999999999995,2.81,4.051,4.828\\n12.7,13.41,0.8874,5.183,3.091,8.456,5.0\\n12.37,13.47,0.8567,5.204,2.96,3.9189999999999996,5.001\\n12.19,13.2,0.8783,5.1370000000000005,2.9810000000000003,3.6310000000000002,4.87\\n11.23,12.88,0.8511,5.14,2.795,4.325,5.003\\n13.2,13.66,0.8883,5.236000000000001,3.2319999999999998,8.315,5.056\\n11.84,13.21,0.8521,5.175,2.8360000000000003,3.5980000000000003,5.044\\n12.3,13.34,0.8684,5.242999999999999,2.9739999999999998,5.6370000000000005,5.063\\n'}"
            ]
          },
          "metadata": {
            "tags": []
          },
          "execution_count": 9
        }
      ]
    },
    {
      "cell_type": "code",
      "metadata": {
        "id": "Up99qd0ce9LZ",
        "colab_type": "code",
        "colab": {
          "base_uri": "https://localhost:8080/",
          "height": 170
        },
        "outputId": "04dfd334-6f9e-48c8-bc2d-bfb2a0a135ae"
      },
      "source": [
        "seedDataset = spark.read.csv(\"seeds_dataset.csv\", inferSchema=True, header=True)\n",
        "seedDataset.printSchema()"
      ],
      "execution_count": 11,
      "outputs": [
        {
          "output_type": "stream",
          "text": [
            "root\n",
            " |-- area: double (nullable = true)\n",
            " |-- perimeter: double (nullable = true)\n",
            " |-- compactness: double (nullable = true)\n",
            " |-- length_of_kernel: double (nullable = true)\n",
            " |-- width_of_kernel: double (nullable = true)\n",
            " |-- asymmetry_coefficient: double (nullable = true)\n",
            " |-- length_of_groove: double (nullable = true)\n",
            "\n"
          ],
          "name": "stdout"
        }
      ]
    },
    {
      "cell_type": "code",
      "metadata": {
        "id": "H3baZwSsfH7s",
        "colab_type": "code",
        "colab": {
          "base_uri": "https://localhost:8080/",
          "height": 204
        },
        "outputId": "6e745719-6ea1-4246-f790-00c8a662b9d3"
      },
      "source": [
        "seedDataset.show(5)"
      ],
      "execution_count": 12,
      "outputs": [
        {
          "output_type": "stream",
          "text": [
            "+-----+---------+-----------+------------------+------------------+---------------------+----------------+\n",
            "| area|perimeter|compactness|  length_of_kernel|   width_of_kernel|asymmetry_coefficient|length_of_groove|\n",
            "+-----+---------+-----------+------------------+------------------+---------------------+----------------+\n",
            "|15.26|    14.84|      0.871|             5.763|             3.312|                2.221|            5.22|\n",
            "|14.88|    14.57|     0.8811| 5.553999999999999|             3.333|                1.018|           4.956|\n",
            "|14.29|    14.09|      0.905|             5.291|3.3369999999999997|                2.699|           4.825|\n",
            "|13.84|    13.94|     0.8955|             5.324|3.3789999999999996|                2.259|           4.805|\n",
            "|16.14|    14.99|     0.9034|5.6579999999999995|             3.562|                1.355|           5.175|\n",
            "+-----+---------+-----------+------------------+------------------+---------------------+----------------+\n",
            "only showing top 5 rows\n",
            "\n"
          ],
          "name": "stdout"
        }
      ]
    },
    {
      "cell_type": "code",
      "metadata": {
        "id": "AtDy2OopfTnA",
        "colab_type": "code",
        "colab": {}
      },
      "source": [
        "from pyspark.ml.clustering import KMeans\n",
        "from pyspark.ml.feature import VectorAssembler\n",
        "\n",
        "assembler = VectorAssembler(inputCols=seedDataset.columns, outputCol='features')\n",
        "finalData = assembler.transform(seedDataset)"
      ],
      "execution_count": 0,
      "outputs": []
    },
    {
      "cell_type": "code",
      "metadata": {
        "id": "ple2EpvGgHub",
        "colab_type": "code",
        "colab": {
          "base_uri": "https://localhost:8080/",
          "height": 204
        },
        "outputId": "45057318-f220-4e05-895f-7d0154f142ec"
      },
      "source": [
        "from pyspark.ml.feature import StandardScaler\n",
        "\n",
        "scaler = StandardScaler(inputCol='features', outputCol='scaledFeatures')\n",
        "scaler_model = scaler.fit(finalData)\n",
        "finalData = scaler_model.transform(finalData)\n",
        "finalData.printSchema()"
      ],
      "execution_count": 19,
      "outputs": [
        {
          "output_type": "stream",
          "text": [
            "root\n",
            " |-- area: double (nullable = true)\n",
            " |-- perimeter: double (nullable = true)\n",
            " |-- compactness: double (nullable = true)\n",
            " |-- length_of_kernel: double (nullable = true)\n",
            " |-- width_of_kernel: double (nullable = true)\n",
            " |-- asymmetry_coefficient: double (nullable = true)\n",
            " |-- length_of_groove: double (nullable = true)\n",
            " |-- features: vector (nullable = true)\n",
            " |-- scaledFeatures: vector (nullable = true)\n",
            "\n"
          ],
          "name": "stdout"
        }
      ]
    },
    {
      "cell_type": "code",
      "metadata": {
        "id": "jqzzVxjThCo9",
        "colab_type": "code",
        "colab": {
          "base_uri": "https://localhost:8080/",
          "height": 153
        },
        "outputId": "e0676e1d-67a0-49dc-f436-a5e7033d1ee6"
      },
      "source": [
        "# Trains a k-means model.\n",
        "kmeans = KMeans(featuresCol='scaledFeatures', k=3).setSeed(1)\n",
        "model = kmeans.fit(finalData)\n",
        "\n",
        "# Evaluate clustering by computing Within Set Sum of Squared Errors.\n",
        "wssse = model.computeCost(finalData)\n",
        "print(\"Within Set Sum of Squared Errors = \" + str(wssse))\n",
        "\n",
        "# Shows the result.\n",
        "centers = model.clusterCenters()\n",
        "print(\"Cluster Centers: \")\n",
        "for center in centers:\n",
        "    print(center)"
      ],
      "execution_count": 21,
      "outputs": [
        {
          "output_type": "stream",
          "text": [
            "Within Set Sum of Squared Errors = 428.6333432285446\n",
            "Cluster Centers: \n",
            "[ 6.35645488 12.40730852 37.41990178 13.93860446  9.7892399   2.41585013\n",
            " 12.29286107]\n",
            "[ 4.07135818 10.14438097 35.86461803 11.81349589  7.53471695  3.18317127\n",
            " 10.39230304]\n",
            "[ 4.94114963 10.95557919 37.3028184  12.42383591  8.60815545  1.80983376\n",
            " 10.40657797]\n"
          ],
          "name": "stdout"
        }
      ]
    },
    {
      "cell_type": "code",
      "metadata": {
        "id": "HOjaHcDThx2_",
        "colab_type": "code",
        "colab": {
          "base_uri": "https://localhost:8080/",
          "height": 459
        },
        "outputId": "ba42406f-64a9-4f74-fd02-f1605ad4433f"
      },
      "source": [
        "model.transform(finalData).select('area','perimeter','prediction').show()"
      ],
      "execution_count": 26,
      "outputs": [
        {
          "output_type": "stream",
          "text": [
            "+-----+---------+----------+\n",
            "| area|perimeter|prediction|\n",
            "+-----+---------+----------+\n",
            "|15.26|    14.84|         2|\n",
            "|14.88|    14.57|         2|\n",
            "|14.29|    14.09|         2|\n",
            "|13.84|    13.94|         2|\n",
            "|16.14|    14.99|         2|\n",
            "|14.38|    14.21|         2|\n",
            "|14.69|    14.49|         2|\n",
            "|14.11|     14.1|         2|\n",
            "|16.63|    15.46|         0|\n",
            "|16.44|    15.25|         2|\n",
            "|15.26|    14.85|         2|\n",
            "|14.03|    14.16|         2|\n",
            "|13.89|    14.02|         2|\n",
            "|13.78|    14.06|         2|\n",
            "|13.74|    14.05|         2|\n",
            "|14.59|    14.28|         2|\n",
            "|13.99|    13.83|         2|\n",
            "|15.69|    14.75|         2|\n",
            "| 14.7|    14.21|         2|\n",
            "|12.72|    13.57|         1|\n",
            "+-----+---------+----------+\n",
            "only showing top 20 rows\n",
            "\n"
          ],
          "name": "stdout"
        }
      ]
    },
    {
      "cell_type": "code",
      "metadata": {
        "id": "9G1E-dm-iVye",
        "colab_type": "code",
        "colab": {
          "resources": {
            "http://localhost:8080/nbextensions/google.colab/files.js": {
              "data": "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",
              "ok": true,
              "headers": [
                [
                  "content-type",
                  "application/javascript"
                ]
              ],
              "status": 200,
              "status_text": ""
            }
          },
          "base_uri": "https://localhost:8080/",
          "height": 111
        },
        "outputId": "305d50da-62dd-4cb3-bcd8-290b9d970090"
      },
      "source": [
        "from google.colab import files\n",
        "files.upload()"
      ],
      "execution_count": 27,
      "outputs": [
        {
          "output_type": "display_data",
          "data": {
            "text/html": [
              "\n",
              "     <input type=\"file\" id=\"files-cb074a53-9455-4b90-8305-a13fc5244186\" name=\"files[]\" multiple disabled />\n",
              "     <output id=\"result-cb074a53-9455-4b90-8305-a13fc5244186\">\n",
              "      Upload widget is only available when the cell has been executed in the\n",
              "      current browser session. Please rerun this cell to enable.\n",
              "      </output>\n",
              "      <script src=\"/nbextensions/google.colab/files.js\"></script> "
            ],
            "text/plain": [
              "<IPython.core.display.HTML object>"
            ]
          },
          "metadata": {
            "tags": []
          }
        },
        {
          "output_type": "stream",
          "text": [
            "Saving hack_data.csv to hack_data.csv\n"
          ],
          "name": "stdout"
        },
        {
          "output_type": "execute_result",
          "data": {
            "text/plain": [
              "{'hack_data.csv': b\"Session_Connection_Time,Bytes Transferred,Kali_Trace_Used,Servers_Corrupted,Pages_Corrupted,Location,WPM_Typing_Speed\\n8.0,391.09,1,2.96,7.0,Slovenia,72.37\\n20.0,720.99,0,3.04,9.0,British Virgin Islands,69.08\\n31.0,356.32,1,3.71,8.0,Tokelau,70.58\\n2.0,228.08,1,2.48,8.0,Bolivia,70.8\\n20.0,408.5,0,3.57,8.0,Iraq,71.28\\n1.0,390.69,1,2.79,9.0,Marshall Islands,71.57\\n18.0,342.97,1,5.1,7.0,Georgia,72.32\\n22.0,101.61,1,3.03,7.0,Timor-Leste,72.03\\n15.0,275.53,1,3.53,8.0,Palestinian Territory,70.17\\n12.0,424.83,1,2.53,8.0,Bangladesh,69.99\\n15.0,249.09,1,3.39,9.0,Northern Mariana Islands,70.77\\n32.0,242.48,0,4.24,8.0,Zimbabwe,67.93\\n23.0,514.54,0,3.18,8.0,Isle of Man,68.56\\n9.0,284.77,0,3.12,9.0,Sao Tome and Principe,70.82\\n27.0,779.25,1,2.37,8.0,Greece,72.73\\n12.0,307.31,1,3.22,7.0,Solomon Islands,67.95\\n21.0,355.94,1,2.0,7.0,Guinea-Bissau,72.0\\n10.0,372.65,0,3.33,7.0,Burkina Faso,69.19\\n20.0,347.23,1,2.33,7.0,Mongolia,70.41\\n22.0,456.57,0,1.52,8.0,Nigeria,69.35\\n25.0,582.03,0,3.29,7.0,Kazakhstan,69.85\\n19.0,67.17,0,3.25,7.0,Faroe Islands,69.73\\n16.0,410.08,1,3.07,8.0,Lebanon,68.49\\n18.0,393.15,0,2.25,8.0,Guyana,70.87\\n34.0,11.04,0,2.31,8.0,Botswana,72.0\\n30.0,309.84,0,3.8,9.0,Zambia,70.98\\n20.0,415.39,1,3.47,7.0,Mexico,69.98\\n23.0,537.94,1,2.96,7.0,Mongolia,68.74\\n21.0,206.31,0,2.75,8.0,Gibraltar,68.82\\n20.0,192.85,1,2.21,8.0,Bhutan,73.1\\n28.0,311.81,0,2.05,8.0,Mayotte,69.29\\n19.0,429.56,1,2.95,8.0,Guernsey,68.94\\n19.0,472.38,0,1.54,8.0,Saint Barthelemy,70.82\\n26.0,607.31,0,1.55,7.0,Cambodia,72.2\\n18.0,566.97,1,2.82,7.0,Tuvalu,71.37\\n33.0,364.88,0,3.52,7.0,Philippines,74.24\\n21.0,169.89,0,4.78,9.0,Armenia,67.93\\n20.0,287.06,1,1.71,8.0,Nicaragua,71.75\\n29.0,225.58,0,3.4,8.0,Mauritania,71.25\\n16.0,522.88,1,3.71,8.0,Algeria,72.74\\n21.0,337.15,1,3.9,8.0,Azerbaijan,71.47\\n15.0,275.09,0,2.5,9.0,Algeria,72.95\\n20.0,60.16,0,3.81,8.0,Sri Lanka,69.97\\n23.0,358.54,1,2.25,8.0,Nauru,73.1\\n8.0,231.64,0,2.97,8.0,Palestinian Territory,67.08\\n22.0,274.24,1,2.1,8.0,Heard Island and McDonald Islands,68.81\\n29.0,372.86,0,1.77,8.0,Mauritania,70.63\\n20.0,710.55,0,3.71,8.0,Christmas Island,70.37\\n16.0,89.49,1,1.8,8.0,Holy See (Vatican City State),74.92\\n11.0,447.05,0,2.67,7.0,Haiti,69.95\\n15.0,628.38,1,2.9,8.0,Japan,71.81\\n9.0,430.16,0,3.41,9.0,Syrian Arab Republic,72.26\\n2.0,343.1,1,2.74,8.0,Albania,70.64\\n13.0,416.9,1,2.76,8.0,United States Virgin Islands,71.63\\n9.0,549.52,1,5.11,9.0,Guernsey,70.4\\n25.0,369.0,0,3.05,7.0,Israel,70.68\\n22.0,184.63,0,3.45,8.0,Czech Republic,68.27\\n7.0,10.0,1,3.71,8.0,Sri Lanka,70.09\\n21.0,270.53,0,4.2,8.0,Bhutan,70.28\\n18.0,385.3,0,3.3,9.0,Malaysia,68.36\\n4.0,295.79,0,2.75,8.0,Maldives,73.15\\n15.0,322.91,0,2.72,7.0,Norway,69.02\\n16.0,316.42,0,3.39,9.0,South Africa,70.89\\n12.0,538.03,1,3.03,8.0,Afghanistan,71.55\\n13.0,252.2,1,3.54,8.0,Australia,67.69\\n9.0,281.56,1,2.04,9.0,Saint Kitts and Nevis,71.7\\n14.0,110.81,0,3.1,8.0,Jamaica,70.93\\n26.0,361.16,0,3.62,8.0,Tajikistan,69.49\\n28.0,179.55,1,2.4,8.0,Azerbaijan,70.57\\n17.0,499.16,1,3.75,6.0,Moldova,69.75\\n10.0,273.77,1,2.64,7.0,Lebanon,71.15\\n21.0,52.79,0,2.13,7.0,Equatorial Guinea,69.21\\n19.0,354.24,0,3.4,6.0,Turkey,70.26\\n18.0,635.81,0,3.43,7.0,Slovenia,74.01\\n12.0,428.8,1,2.22,7.0,Congo,72.65\\n30.0,366.5,1,2.81,8.0,Brunei Darussalam,71.25\\n8.0,365.62,0,1.56,7.0,South Georgia and the South Sandwich Islands,69.22\\n18.0,373.36,0,3.92,7.0,Holy See (Vatican City State),72.95\\n24.0,534.74,1,3.25,8.0,Iran,72.19\\n8.0,64.83,0,3.58,8.0,Saudi Arabia,70.21\\n26.0,354.77,0,3.26,8.0,Netherlands Antilles,71.43\\n11.0,508.87,1,2.56,8.0,Botswana,71.15\\n14.0,331.49,1,2.35,9.0,Zambia,70.23\\n22.0,404.57,0,1.82,8.0,Bouvet Island (Bouvetoya),69.74\\n13.0,518.68,1,2.87,7.0,Netherlands,72.01\\n22.0,494.63,1,2.4,8.0,Belarus,71.02\\n19.0,104.67,1,1.34,9.0,Cyprus,70.44\\n22.0,106.26,1,2.81,8.0,Netherlands Antilles,69.51\\n13.0,91.86,1,5.07,8.0,Yemen,69.43\\n14.0,257.35,0,2.17,7.0,Uzbekistan,68.71\\n4.0,459.64,0,3.09,7.0,Ecuador,69.27\\n20.0,651.24,0,1.13,8.0,Saint Barthelemy,68.84\\n30.0,23.3,0,3.54,7.0,Sao Tome and Principe,68.75\\n14.0,499.13,0,4.6,8.0,Haiti,72.04\\n18.0,39.13,0,2.0,9.0,Romania,71.28\\n34.0,320.47,0,3.76,8.0,Montenegro,70.67\\n4.0,458.36,0,1.25,8.0,Czech Republic,70.8\\n22.0,613.04,1,3.77,8.0,Niue,71.02\\n21.0,445.02,1,3.9,8.0,Saint Pierre and Miquelon,72.83\\n17.0,623.48,1,3.37,8.0,Mayotte,71.96\\n19.0,253.39,0,2.66,8.0,Saint Vincent and the Grenadines,75.0\\n27.0,664.85,1,3.74,7.0,Kyrgyz Republic,70.24\\n13.0,84.83,0,2.13,9.0,South Africa,71.89\\n14.0,526.84,1,4.14,8.0,Japan,72.18\\n22.0,468.35,1,4.11,7.0,New Zealand,70.28\\n20.0,271.97,1,3.38,8.0,United States Virgin Islands,73.17\\n13.0,449.15,1,3.33,7.0,Central African Republic,69.41\\n10.0,256.61,0,4.26,7.0,Belize,70.09\\n17.0,504.41,1,3.23,9.0,Seychelles,72.23\\n17.0,408.08,0,4.52,8.0,Sri Lanka,69.52\\n30.0,251.69,0,3.87,7.0,United States Minor Outlying Islands,68.24\\n18.0,345.83,0,5.32,8.0,Dominican Republic,72.16\\n12.0,345.41,1,3.53,9.0,Portugal,69.84\\n26.0,339.11,0,2.1,7.0,Trinidad and Tobago,72.09\\n8.0,857.01,0,1.0,7.0,Western Sahara,69.53\\n15.0,510.61,1,1.61,8.0,Grenada,70.63\\n11.0,449.09,0,4.22,7.0,Saint Lucia,69.09\\n28.0,336.36,1,3.06,8.0,Faroe Islands,69.13\\n14.0,640.86,0,4.1,8.0,Ethiopia,70.01\\n20.0,429.64,0,2.47,8.0,Sweden,71.75\\n22.0,348.41,0,2.3,9.0,Uruguay,68.37\\n8.0,752.49,0,4.11,9.0,Tokelau,70.41\\n12.0,517.46,1,3.24,7.0,Tanzania,74.17\\n25.0,456.28,1,4.07,8.0,Serbia,71.51\\n18.0,200.83,0,4.66,8.0,Ukraine,70.56\\n13.0,379.95,1,1.44,8.0,Turks and Caicos Islands,69.61\\n18.0,512.83,1,3.31,9.0,Slovakia (Slovak Republic),71.0\\n32.0,340.49,1,3.82,8.0,Switzerland,70.86\\n18.0,118.03,1,3.21,7.0,Australia,73.79\\n15.0,447.83,0,2.6,8.0,United States Virgin Islands,71.24\\n8.0,372.05,0,3.13,8.0,Antigua and Barbuda,69.18\\n6.0,370.45,1,2.72,8.0,Philippines,68.33\\n7.0,178.56,0,4.18,8.0,Sweden,72.42\\n14.0,366.49,0,2.56,9.0,China,70.16\\n10.0,401.85,0,3.93,8.0,New Caledonia,68.73\\n13.0,485.85,0,5.25,8.0,Luxembourg,69.13\\n19.0,868.5,1,3.7,8.0,Malawi,73.46\\n6.0,567.16,1,5.05,8.0,Hungary,69.04\\n18.0,419.12,0,4.11,8.0,Palestinian Territory,70.98\\n20.0,288.32,1,2.71,8.0,Greece,70.31\\n15.0,422.47,1,3.01,8.0,Benin,71.3\\n15.0,548.83,1,3.78,7.0,Bahamas,68.53\\n24.0,334.41,0,4.27,7.0,Ethiopia,69.94\\n16.0,300.7,0,2.94,8.0,Kyrgyz Republic,69.47\\n17.0,334.8,1,2.51,8.0,Netherlands,73.38\\n5.0,378.46,1,5.17,8.0,Samoa,72.32\\n15.0,392.11,0,4.54,8.0,Kuwait,67.32\\n31.0,600.84,1,4.52,8.0,Austria,70.63\\n27.0,474.87,0,2.12,7.0,Saint Barthelemy,69.44\\n19.0,724.8,0,2.82,8.0,Turkmenistan,71.72\\n27.0,171.73,1,2.07,8.0,Bouvet Island (Bouvetoya),70.97\\n18.0,374.74,1,4.92,7.0,Denmark,69.45\\n16.0,725.51,0,2.07,8.0,Kenya,70.57\\n12.0,75.53,0,3.73,8.0,Wallis and Futuna,69.77\\n21.0,202.83,1,2.6,8.0,Bhutan,67.95\\n34.0,392.47,0,2.31,8.0,Reunion,72.16\\n23.0,499.24,1,3.76,8.0,Cook Islands,72.45\\n21.0,701.52,0,2.95,8.0,Saint Lucia,68.92\\n11.0,125.69,1,2.33,7.0,Ukraine,69.3\\n13.0,218.71,0,3.2,7.0,Niue,67.31\\n22.0,623.58,1,3.53,7.0,Morocco,70.59\\n12.0,393.84,1,2.57,7.0,Cook Islands,72.17\\n19.0,449.53,1,4.93,7.0,Lao People's Democratic Republic,69.79\\n17.0,602.46,1,4.87,9.0,Sudan,70.26\\n17.0,272.34,0,3.83,9.0,Norway,70.07\\n18.0,181.78,0,2.76,9.0,Cambodia,72.51\\n21.0,434.82,1,2.43,8.0,Thailand,72.04\\n46.0,479.77,1,7.58,14.0,Liechtenstein,45.91\\n35.0,871.76,1,7.38,15.0,Mauritania,45.08\\n42.0,797.74,0,7.58,14.0,Russian Federation,46.24\\n36.0,793.45,0,7.18,13.0,Macedonia,45.9\\n41.0,832.71,1,9.22,14.0,Belize,42.43\\n41.0,766.67,0,6.73,14.0,Svalbard & Jan Mayen Islands,44.71\\n47.0,592.93,1,6.65,13.0,United States Virgin Islands,47.15\\n37.0,841.34,0,5.9,13.0,Isle of Man,45.57\\n38.0,984.63,1,6.88,14.0,Zimbabwe,43.34\\n27.0,874.26,0,7.05,14.0,Anguilla,45.72\\n51.0,1051.27,0,8.12,15.0,Netherlands Antilles,46.47\\n30.0,460.6,0,7.15,14.0,French Southern Territories,45.57\\n37.0,779.05,1,7.46,13.0,Hong Kong,43.64\\n42.0,869.04,0,6.45,15.0,Saint Helena,41.27\\n49.0,905.5,1,8.3,13.0,Iran,43.33\\n48.0,718.61,1,6.36,13.0,Tuvalu,41.85\\n39.0,1021.2,0,9.09,14.0,Montserrat,43.85\\n50.0,855.74,1,7.39,14.0,Costa Rica,43.72\\n45.0,1057.61,0,7.54,14.0,Malawi,44.28\\n46.0,765.98,1,8.5,14.0,Micronesia,43.58\\n35.0,717.42,0,5.08,14.0,Brunei Darussalam,46.92\\n40.0,774.59,0,6.94,14.0,Tunisia,43.36\\n31.0,905.1,0,6.27,15.0,Libyan Arab Jamahiriya,45.33\\n48.0,957.19,1,6.95,13.0,Guyana,43.43\\n32.0,563.64,0,7.13,13.0,Cameroon,45.99\\n39.0,852.69,1,7.9,14.0,Trinidad and Tobago,45.7\\n53.0,992.47,1,7.88,14.0,Nicaragua,43.3\\n29.0,1273.04,0,6.67,14.0,Slovakia (Slovak Republic),44.36\\n42.0,921.8,0,7.72,13.0,Ethiopia,46.14\\n51.0,904.86,1,8.35,14.0,Bulgaria,43.25\\n37.0,634.7,1,7.4,14.0,Ecuador,44.25\\n36.0,831.48,1,6.49,14.0,Trinidad and Tobago,44.67\\n38.0,574.09,1,8.1,14.0,Mauritania,43.34\\n30.0,797.62,0,7.55,13.0,India,42.08\\n28.0,716.01,1,8.86,14.0,Estonia,44.46\\n39.0,485.16,0,7.84,14.0,Grenada,42.35\\n51.0,737.22,1,7.74,14.0,Armenia,45.02\\n46.0,925.89,1,8.51,14.0,Antigua and Barbuda,44.34\\n60.0,836.68,1,7.45,13.0,Comoros,41.41\\n48.0,844.2,1,8.08,14.0,Lithuania,45.93\\n42.0,805.38,0,6.72,13.0,Congo,40.57\\n52.0,669.21,1,7.35,13.0,Bangladesh,46.26\\n33.0,1019.94,0,6.46,14.0,Isle of Man,45.45\\n51.0,1243.86,0,6.26,14.0,Antigua and Barbuda,44.78\\n45.0,846.68,0,9.98,15.0,French Southern Territories,42.24\\n36.0,1056.69,1,6.11,14.0,United States Minor Outlying Islands,42.48\\n48.0,934.01,1,7.97,14.0,United States Minor Outlying Islands,44.58\\n52.0,660.79,1,8.08,13.0,Venezuela,44.67\\n36.0,555.32,0,6.59,14.0,Grenada,44.3\\n47.0,664.28,1,5.92,14.0,Switzerland,42.75\\n37.0,828.68,0,6.63,14.0,Saint Martin,42.27\\n37.0,855.17,1,8.68,14.0,Indonesia,45.0\\n46.0,640.06,0,6.89,14.0,Cocos (Keeling) Islands,44.48\\n39.0,596.69,0,8.73,14.0,Gabon,42.1\\n48.0,776.02,1,8.63,14.0,Palestinian Territory,44.58\\n36.0,821.21,0,6.35,14.0,Saint Pierre and Miquelon,48.6\\n35.0,828.09,1,7.14,15.0,Martinique,45.25\\n40.0,874.47,0,7.83,14.0,Russian Federation,45.02\\n55.0,686.47,1,7.5,13.0,Syrian Arab Republic,43.12\\n49.0,1019.63,0,7.65,13.0,Jordan,44.36\\n45.0,805.67,1,6.71,15.0,Madagascar,40.74\\n42.0,972.14,1,7.04,14.0,Northern Mariana Islands,44.24\\n44.0,1045.32,0,7.03,14.0,Guinea-Bissau,44.22\\n43.0,780.66,0,7.16,14.0,Burkina Faso,44.06\\n46.0,783.48,1,7.82,14.0,British Virgin Islands,43.09\\n36.0,594.29,0,7.14,15.0,Falkland Islands (Malvinas),43.2\\n38.0,959.81,1,7.84,13.0,China,41.54\\n40.0,413.92,1,6.93,15.0,Netherlands,40.76\\n48.0,1040.38,0,7.17,15.0,Reunion,42.33\\n47.0,814.26,1,7.16,13.0,Philippines,42.76\\n28.0,887.3,0,7.49,12.0,Northern Mariana Islands,43.35\\n49.0,1081.16,0,5.73,14.0,Burkina Faso,45.49\\n39.0,861.74,1,6.82,14.0,United Kingdom,41.61\\n42.0,717.05,1,7.6,13.0,Korea,44.96\\n43.0,952.19,1,7.06,13.0,Sudan,44.15\\n37.0,581.9,0,6.44,14.0,Guinea-Bissau,44.28\\n40.0,930.52,0,8.47,13.0,Uzbekistan,42.65\\n35.0,669.51,0,7.12,14.0,Kiribati,45.94\\n31.0,844.64,1,7.48,14.0,Timor-Leste,41.86\\n43.0,859.48,1,7.02,14.0,Costa Rica,46.0\\n41.0,752.95,0,9.37,14.0,Heard Island and McDonald Islands,46.52\\n49.0,965.09,0,8.19,13.0,Saint Kitts and Nevis,47.08\\n49.0,704.64,0,7.96,14.0,Benin,45.34\\n44.0,948.6,1,7.89,14.0,United Arab Emirates,44.01\\n45.0,1077.69,1,8.33,13.0,Norway,44.83\\n43.0,881.46,0,7.64,14.0,Czech Republic,43.79\\n38.0,916.41,1,8.13,13.0,Malaysia,43.81\\n33.0,589.62,1,7.52,13.0,Saint Helena,44.11\\n41.0,808.67,1,7.41,14.0,Georgia,45.21\\n46.0,757.14,1,6.09,14.0,Oman,40.77\\n57.0,898.29,1,5.95,14.0,Netherlands,41.15\\n46.0,921.99,0,9.74,14.0,Singapore,40.0\\n52.0,957.47,1,6.37,14.0,Taiwan,41.04\\n50.0,535.88,0,7.16,14.0,Grenada,42.39\\n35.0,1018.53,1,7.75,14.0,Cyprus,45.79\\n40.0,842.59,1,6.41,14.0,Bahamas,43.32\\n34.0,878.07,0,7.65,15.0,Cook Islands,42.87\\n44.0,946.83,0,8.27,13.0,Egypt,44.39\\n45.0,1081.75,1,5.66,13.0,Macao,44.69\\n52.0,970.78,1,6.97,13.0,Cape Verde,42.84\\n31.0,823.61,0,7.35,14.0,Sri Lanka,47.0\\n47.0,853.6,0,7.4,15.0,British Indian Ocean Territory (Chagos Archipelago),47.16\\n55.0,595.19,0,8.04,14.0,Western Sahara,45.14\\n40.0,816.29,1,8.71,13.0,Syrian Arab Republic,44.36\\n40.0,1024.68,1,8.29,15.0,Czech Republic,46.24\\n45.0,921.05,0,5.82,13.0,Togo,43.01\\n42.0,500.49,0,8.21,12.0,Sweden,43.7\\n42.0,978.74,1,8.43,14.0,French Polynesia,45.45\\n45.0,756.64,0,8.12,13.0,Iraq,42.95\\n50.0,1105.8,1,6.69,14.0,Moldova,45.61\\n52.0,749.56,1,7.2,14.0,Dominican Republic,44.04\\n31.0,962.5,1,6.54,14.0,Czech Republic,44.5\\n41.0,871.18,1,6.89,14.0,Christmas Island,45.88\\n55.0,804.37,1,10.0,13.0,Cuba,43.74\\n33.0,916.74,1,6.96,14.0,Pitcairn Islands,42.5\\n38.0,546.22,1,7.72,14.0,Ukraine,40.58\\n45.0,952.8,1,7.4,14.0,Switzerland,46.02\\n42.0,603.0,0,6.51,13.0,Greece,42.04\\n33.0,709.34,1,7.42,14.0,Burundi,42.49\\n38.0,407.63,0,7.68,14.0,Palau,48.11\\n40.0,920.82,1,8.52,14.0,Macao,47.97\\n43.0,712.2,1,7.5,13.0,Papua New Guinea,41.72\\n56.0,1190.87,0,5.77,14.0,Reunion,45.16\\n47.0,897.11,0,8.33,15.0,Rwanda,45.4\\n32.0,799.24,1,7.19,14.0,Svalbard & Jan Mayen Islands,44.41\\n43.0,663.74,1,7.45,13.0,Liechtenstein,46.76\\n38.0,840.81,0,6.35,13.0,Niger,44.32\\n55.0,970.68,0,7.93,15.0,Haiti,43.68\\n27.0,844.01,0,7.73,13.0,Tuvalu,45.89\\n47.0,540.31,0,7.78,13.0,Colombia,43.95\\n46.0,1046.05,0,6.86,15.0,Azerbaijan,42.75\\n44.0,675.72,0,7.8,14.0,Latvia,43.04\\n43.0,837.58,0,6.29,14.0,Saint Barthelemy,44.69\\n49.0,1330.5,1,7.96,13.0,Andorra,42.56\\n40.0,993.62,0,7.03,14.0,Australia,43.46\\n49.0,847.11,0,9.03,13.0,Antarctica (the territory South of 60 deg S),42.11\\n48.0,1114.98,1,6.74,14.0,Trinidad and Tobago,43.92\\n52.0,800.64,0,6.1,14.0,United States Virgin Islands,43.45\\n39.0,866.95,0,6.82,14.0,Paraguay,44.12\\n33.0,1129.19,1,6.77,14.0,Mauritania,44.34\\n37.0,832.2,1,7.75,15.0,Libyan Arab Jamahiriya,42.24\\n52.0,942.14,1,6.95,14.0,Myanmar,45.78\\n37.0,1053.76,1,7.34,14.0,Indonesia,41.59\\n48.0,870.01,1,7.61,14.0,Antigua and Barbuda,44.98\\n35.0,699.3,1,7.51,14.0,Saint Kitts and Nevis,45.4\\n44.0,881.73,1,7.05,15.0,Reunion,43.8\\n51.0,723.94,1,6.34,13.0,Paraguay,44.27\\n41.0,760.15,0,7.63,14.0,Equatorial Guinea,41.8\\n44.0,957.05,1,6.38,13.0,United Arab Emirates,42.17\\n41.0,944.84,1,7.79,14.0,Belgium,41.73\\n33.0,834.11,0,5.79,14.0,Jamaica,44.96\\n41.0,706.51,0,7.61,14.0,French Southern Territories,44.58\\n44.0,749.63,0,7.26,14.0,Germany,42.6\\n42.0,1056.32,0,7.98,14.0,Nauru,43.92\\n45.0,584.73,1,6.56,15.0,Ukraine,41.72\\n39.0,830.06,0,7.5,14.0,Guernsey,42.7\\n44.0,794.9,1,6.27,14.0,Zimbabwe,43.39\\n52.0,951.14,0,8.66,14.0,Bulgaria,47.74\\n43.0,1039.8,1,7.08,13.0,Iraq,44.98\\n39.0,833.94,0,7.52,14.0,Svalbard & Jan Mayen Islands,46.68\\n50.0,842.78,0,6.62,15.0,United States Virgin Islands,44.69\\n37.0,746.81,0,7.93,14.0,Guinea-Bissau,43.12\\n39.0,761.91,1,6.99,14.0,Belarus,43.23\\n43.0,983.48,0,8.6,13.0,British Indian Ocean Territory (Chagos Archipelago),43.21\\n39.0,690.22,1,6.8,13.0,Guinea-Bissau,42.75\\n36.0,1060.69,1,6.26,14.0,Canada,43.86\\n42.0,729.47,0,7.95,14.0,Tuvalu,45.27\\n\"}"
            ]
          },
          "metadata": {
            "tags": []
          },
          "execution_count": 27
        }
      ]
    },
    {
      "cell_type": "code",
      "metadata": {
        "id": "mww4jVarixX4",
        "colab_type": "code",
        "colab": {
          "base_uri": "https://localhost:8080/",
          "height": 170
        },
        "outputId": "7fe4f286-95d8-4fd0-93dc-dfdad07d5744"
      },
      "source": [
        "hackDataset = spark.read.csv('hack_data.csv', inferSchema=True, header=True)\n",
        "hackDataset.printSchema()"
      ],
      "execution_count": 28,
      "outputs": [
        {
          "output_type": "stream",
          "text": [
            "root\n",
            " |-- Session_Connection_Time: double (nullable = true)\n",
            " |-- Bytes Transferred: double (nullable = true)\n",
            " |-- Kali_Trace_Used: integer (nullable = true)\n",
            " |-- Servers_Corrupted: double (nullable = true)\n",
            " |-- Pages_Corrupted: double (nullable = true)\n",
            " |-- Location: string (nullable = true)\n",
            " |-- WPM_Typing_Speed: double (nullable = true)\n",
            "\n"
          ],
          "name": "stdout"
        }
      ]
    },
    {
      "cell_type": "code",
      "metadata": {
        "id": "pxb7__I4i9FT",
        "colab_type": "code",
        "colab": {
          "base_uri": "https://localhost:8080/",
          "height": 459
        },
        "outputId": "97087bb0-79b0-408f-e364-8d3ec7537031"
      },
      "source": [
        "hackDataset.show()"
      ],
      "execution_count": 29,
      "outputs": [
        {
          "output_type": "stream",
          "text": [
            "+-----------------------+-----------------+---------------+-----------------+---------------+--------------------+----------------+\n",
            "|Session_Connection_Time|Bytes Transferred|Kali_Trace_Used|Servers_Corrupted|Pages_Corrupted|            Location|WPM_Typing_Speed|\n",
            "+-----------------------+-----------------+---------------+-----------------+---------------+--------------------+----------------+\n",
            "|                    8.0|           391.09|              1|             2.96|            7.0|            Slovenia|           72.37|\n",
            "|                   20.0|           720.99|              0|             3.04|            9.0|British Virgin Is...|           69.08|\n",
            "|                   31.0|           356.32|              1|             3.71|            8.0|             Tokelau|           70.58|\n",
            "|                    2.0|           228.08|              1|             2.48|            8.0|             Bolivia|            70.8|\n",
            "|                   20.0|            408.5|              0|             3.57|            8.0|                Iraq|           71.28|\n",
            "|                    1.0|           390.69|              1|             2.79|            9.0|    Marshall Islands|           71.57|\n",
            "|                   18.0|           342.97|              1|              5.1|            7.0|             Georgia|           72.32|\n",
            "|                   22.0|           101.61|              1|             3.03|            7.0|         Timor-Leste|           72.03|\n",
            "|                   15.0|           275.53|              1|             3.53|            8.0|Palestinian Terri...|           70.17|\n",
            "|                   12.0|           424.83|              1|             2.53|            8.0|          Bangladesh|           69.99|\n",
            "|                   15.0|           249.09|              1|             3.39|            9.0|Northern Mariana ...|           70.77|\n",
            "|                   32.0|           242.48|              0|             4.24|            8.0|            Zimbabwe|           67.93|\n",
            "|                   23.0|           514.54|              0|             3.18|            8.0|         Isle of Man|           68.56|\n",
            "|                    9.0|           284.77|              0|             3.12|            9.0|Sao Tome and Prin...|           70.82|\n",
            "|                   27.0|           779.25|              1|             2.37|            8.0|              Greece|           72.73|\n",
            "|                   12.0|           307.31|              1|             3.22|            7.0|     Solomon Islands|           67.95|\n",
            "|                   21.0|           355.94|              1|              2.0|            7.0|       Guinea-Bissau|            72.0|\n",
            "|                   10.0|           372.65|              0|             3.33|            7.0|        Burkina Faso|           69.19|\n",
            "|                   20.0|           347.23|              1|             2.33|            7.0|            Mongolia|           70.41|\n",
            "|                   22.0|           456.57|              0|             1.52|            8.0|             Nigeria|           69.35|\n",
            "+-----------------------+-----------------+---------------+-----------------+---------------+--------------------+----------------+\n",
            "only showing top 20 rows\n",
            "\n"
          ],
          "name": "stdout"
        }
      ]
    },
    {
      "cell_type": "code",
      "metadata": {
        "id": "GzRuzarAj38U",
        "colab_type": "code",
        "colab": {
          "base_uri": "https://localhost:8080/",
          "height": 136
        },
        "outputId": "d8c3a90c-93a2-4ee5-b874-0c26da2f1da6"
      },
      "source": [
        "hackDataset.columns"
      ],
      "execution_count": 31,
      "outputs": [
        {
          "output_type": "execute_result",
          "data": {
            "text/plain": [
              "['Session_Connection_Time',\n",
              " 'Bytes Transferred',\n",
              " 'Kali_Trace_Used',\n",
              " 'Servers_Corrupted',\n",
              " 'Pages_Corrupted',\n",
              " 'Location',\n",
              " 'WPM_Typing_Speed']"
            ]
          },
          "metadata": {
            "tags": []
          },
          "execution_count": 31
        }
      ]
    },
    {
      "cell_type": "code",
      "metadata": {
        "id": "U2vzQi_7jtAv",
        "colab_type": "code",
        "colab": {}
      },
      "source": [
        "assembler = VectorAssembler(inputCols=('Session_Connection_Time',\n",
        " 'Bytes Transferred',\n",
        " 'Kali_Trace_Used',\n",
        " 'Servers_Corrupted',\n",
        " 'Pages_Corrupted', 'WPM_Typing_Speed'), outputCol='features')\n",
        "finalData = assembler.transform(hackDataset)"
      ],
      "execution_count": 0,
      "outputs": []
    },
    {
      "cell_type": "code",
      "metadata": {
        "id": "nloQfKRhkE61",
        "colab_type": "code",
        "colab": {
          "base_uri": "https://localhost:8080/",
          "height": 204
        },
        "outputId": "90bf7706-f577-4e46-918b-eb31ca2c7236"
      },
      "source": [
        "from pyspark.ml.feature import StandardScaler\n",
        "\n",
        "scaler = StandardScaler(inputCol='features', outputCol='scaledFeatures')\n",
        "scaler_model = scaler.fit(finalData)\n",
        "finalData = scaler_model.transform(finalData)\n",
        "finalData.printSchema()"
      ],
      "execution_count": 35,
      "outputs": [
        {
          "output_type": "stream",
          "text": [
            "root\n",
            " |-- Session_Connection_Time: double (nullable = true)\n",
            " |-- Bytes Transferred: double (nullable = true)\n",
            " |-- Kali_Trace_Used: integer (nullable = true)\n",
            " |-- Servers_Corrupted: double (nullable = true)\n",
            " |-- Pages_Corrupted: double (nullable = true)\n",
            " |-- Location: string (nullable = true)\n",
            " |-- WPM_Typing_Speed: double (nullable = true)\n",
            " |-- features: vector (nullable = true)\n",
            " |-- scaledFeatures: vector (nullable = true)\n",
            "\n"
          ],
          "name": "stdout"
        }
      ]
    },
    {
      "cell_type": "code",
      "metadata": {
        "id": "014Sxm8jkqeU",
        "colab_type": "code",
        "colab": {
          "base_uri": "https://localhost:8080/",
          "height": 51
        },
        "outputId": "83aa5bfa-4e92-415a-d40d-118ac4f911c1"
      },
      "source": [
        "# Trains a k-means model.\n",
        "kmeans = KMeans(featuresCol='scaledFeatures', k=2).setSeed(1)\n",
        "model_k2 = kmeans.fit(finalData)\n",
        "\n",
        "# Evaluate clustering by computing Within Set Sum of Squared Errors.\n",
        "wssse = model_k2.computeCost(finalData)\n",
        "print(\"Within Set Sum of Squared Errors = \" + str(wssse))\n",
        "\n",
        "\n",
        "# Trains a k-means model.\n",
        "kmeans = KMeans(featuresCol='scaledFeatures', k=3).setSeed(1)\n",
        "model_k3 = kmeans.fit(finalData)\n",
        "\n",
        "# Evaluate clustering by computing Within Set Sum of Squared Errors.\n",
        "wssse = model_k3.computeCost(finalData)\n",
        "print(\"Within Set Sum of Squared Errors = \" + str(wssse))"
      ],
      "execution_count": 37,
      "outputs": [
        {
          "output_type": "stream",
          "text": [
            "Within Set Sum of Squared Errors = 601.7707512676716\n",
            "Within Set Sum of Squared Errors = 434.75507308487647\n"
          ],
          "name": "stdout"
        }
      ]
    },
    {
      "cell_type": "code",
      "metadata": {
        "id": "TJdYj-1ZlgqV",
        "colab_type": "code",
        "colab": {
          "base_uri": "https://localhost:8080/",
          "height": 153
        },
        "outputId": "11e2c43a-0453-4753-b3c7-1c98b6396e6c"
      },
      "source": [
        "model_k3.transform(finalData).groupBy('prediction').count().show()"
      ],
      "execution_count": 39,
      "outputs": [
        {
          "output_type": "stream",
          "text": [
            "+----------+-----+\n",
            "|prediction|count|\n",
            "+----------+-----+\n",
            "|         1|   88|\n",
            "|         2|   79|\n",
            "|         0|  167|\n",
            "+----------+-----+\n",
            "\n"
          ],
          "name": "stdout"
        }
      ]
    },
    {
      "cell_type": "code",
      "metadata": {
        "id": "09yj4-Y0lt4G",
        "colab_type": "code",
        "colab": {
          "base_uri": "https://localhost:8080/",
          "height": 136
        },
        "outputId": "741bb1de-d28f-47f7-8b64-f26bbdd46aa0"
      },
      "source": [
        "model_k2.transform(finalData).groupBy('prediction').count().show()"
      ],
      "execution_count": 40,
      "outputs": [
        {
          "output_type": "stream",
          "text": [
            "+----------+-----+\n",
            "|prediction|count|\n",
            "+----------+-----+\n",
            "|         1|  167|\n",
            "|         0|  167|\n",
            "+----------+-----+\n",
            "\n"
          ],
          "name": "stdout"
        }
      ]
    },
    {
      "cell_type": "code",
      "metadata": {
        "id": "rT3U0Y_RlzIa",
        "colab_type": "code",
        "colab": {}
      },
      "source": [
        ""
      ],
      "execution_count": 0,
      "outputs": []
    }
  ]
}