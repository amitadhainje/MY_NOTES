{
  "nbformat": 4,
  "nbformat_minor": 0,
  "metadata": {
    "colab": {
      "name": "Quora-Question-Pairs-GradientBoostingClassifier.ipynb",
      "provenance": [],
      "collapsed_sections": [],
      "authorship_tag": "ABX9TyPssxxeZ94qPApmn9zv7ThH",
      "include_colab_link": true
    },
    "kernelspec": {
      "name": "python3",
      "display_name": "Python 3"
    },
    "language_info": {
      "name": "python"
    }
  },
  "cells": [
    {
      "cell_type": "markdown",
      "metadata": {
        "id": "view-in-github",
        "colab_type": "text"
      },
      "source": [
        "<a href=\"https://colab.research.google.com/github/amitadhainje/MY_NOTES/blob/master/Quora_Question_Pairs_GradientBoostingClassifier.ipynb\" target=\"_parent\"><img src=\"https://colab.research.google.com/assets/colab-badge.svg\" alt=\"Open In Colab\"/></a>"
      ]
    },
    {
      "cell_type": "code",
      "source": [
        "from google.colab import files\n",
        "uploaded = files.upload()\n",
        "\n",
        "! mkdir ~/.kaggle\n",
        "! cp kaggle.json ~/.kaggle/\n",
        "!ls ~/.kaggle/\n",
        "! chmod 600 ~/.kaggle/kaggle.json"
      ],
      "metadata": {
        "colab": {
          "resources": {
            "http://localhost:8080/nbextensions/google.colab/files.js": {
              "data": "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",
              "ok": true,
              "headers": [
                [
                  "content-type",
                  "application/javascript"
                ]
              ],
              "status": 200,
              "status_text": ""
            }
          },
          "base_uri": "https://localhost:8080/",
          "height": 90
        },
        "id": "HwE2GFFe-1Xp",
        "outputId": "eda5e5fa-01de-463c-9b57-4e73a00c63fe"
      },
      "execution_count": 1,
      "outputs": [
        {
          "output_type": "display_data",
          "data": {
            "text/plain": [
              "<IPython.core.display.HTML object>"
            ],
            "text/html": [
              "\n",
              "     <input type=\"file\" id=\"files-1c52fd6b-8a4a-483b-8c01-b5e5a7c86264\" name=\"files[]\" multiple disabled\n",
              "        style=\"border:none\" />\n",
              "     <output id=\"result-1c52fd6b-8a4a-483b-8c01-b5e5a7c86264\">\n",
              "      Upload widget is only available when the cell has been executed in the\n",
              "      current browser session. Please rerun this cell to enable.\n",
              "      </output>\n",
              "      <script src=\"/nbextensions/google.colab/files.js\"></script> "
            ]
          },
          "metadata": {}
        },
        {
          "output_type": "stream",
          "name": "stdout",
          "text": [
            "Saving kaggle.json to kaggle.json\n",
            "kaggle.json\n"
          ]
        }
      ]
    },
    {
      "cell_type": "code",
      "source": [
        "! kaggle competitions download -c quora-question-pairs\n",
        "! unzip /content/quora-question-pairs.zip\n",
        "! ls /content"
      ],
      "metadata": {
        "colab": {
          "base_uri": "https://localhost:8080/"
        },
        "id": "UJabpOmH--EW",
        "outputId": "d0df864c-57a9-474f-ed48-cfbeb8f985de"
      },
      "execution_count": 2,
      "outputs": [
        {
          "output_type": "stream",
          "name": "stdout",
          "text": [
            "Downloading quora-question-pairs.zip to /content\n",
            " 97% 301M/309M [00:02<00:00, 151MB/s]\n",
            "100% 309M/309M [00:02<00:00, 137MB/s]\n",
            "Archive:  /content/quora-question-pairs.zip\n",
            "  inflating: sample_submission.csv.zip  \n",
            "  inflating: test.csv                \n",
            "  inflating: test.csv.zip            \n",
            "  inflating: train.csv.zip           \n",
            "kaggle.json\t\t  sample_submission.csv.zip  train.csv.zip\n",
            "quora-question-pairs.zip  test.csv\n",
            "sample_data\t\t  test.csv.zip\n"
          ]
        }
      ]
    },
    {
      "cell_type": "code",
      "source": [
        "import numpy as np \n",
        "import pandas as pd\n",
        "import os, re\n",
        "import matplotlib.pyplot as plt\n",
        "import seaborn as sns\n",
        "import tensorflow as tf\n",
        "from tensorflow import keras\n",
        "from tensorflow.keras.preprocessing.text import Tokenizer\n",
        "from tensorflow.keras.preprocessing.sequence import pad_sequences\n",
        "from tensorflow.keras.models import Model\n",
        "from tensorflow.keras.layers import Dense,Embedding,LSTM,concatenate\n",
        "from tensorflow.keras import Input\n",
        "from sklearn.model_selection import train_test_split\n",
        "from sklearn.ensemble import GradientBoostingClassifier\n",
        "from sklearn.metrics import accuracy_score, classification_report, roc_curve, confusion_matrix, roc_auc_score, auc\n",
        "from sklearn.metrics import f1_score, precision_score, recall_score\n",
        "from sklearn.preprocessing import StandardScaler\n",
        "from prettytable import PrettyTable,ALL\n",
        "import warnings\n",
        "warnings.filterwarnings(\"ignore\")"
      ],
      "metadata": {
        "id": "LoB6GWzk_rtx"
      },
      "execution_count": 3,
      "outputs": []
    },
    {
      "cell_type": "code",
      "source": [
        "def DisplayInformation(fieldNames, data):\n",
        "    infoTable = PrettyTable()\n",
        "    infoTable.field_names = fieldNames\n",
        "    infoTable.align='l'\n",
        "    for x in data:\n",
        "        infoTable.add_row(x)\n",
        "    print (infoTable)\n",
        "    \n",
        "def DisplayDataframe(data):\n",
        "    infoTable = PrettyTable()\n",
        "    infoTable.field_names = data.columns\n",
        "    infoTable.align='l'\n",
        "    temp = data.head()\n",
        "    for index, row in temp.iterrows():\n",
        "        infoTable.add_row(list(row.values))\n",
        "    print (infoTable)"
      ],
      "metadata": {
        "id": "oZMXT-wz_ujk"
      },
      "execution_count": 4,
      "outputs": []
    },
    {
      "cell_type": "code",
      "source": [
        "df=pd.read_csv('/content/train.csv.zip')\n",
        "df = df.dropna()\n",
        "df['question1'] = df['question1'].apply(lambda x:  x.lower())\n",
        "df['question2'] = df['question2'].apply(lambda x:  x.lower())\n",
        "df['q1_len'] =  df['question1'].apply(lambda x:  len(x.split(\" \")))\n",
        "df['q2_len'] =  df['question2'].apply(lambda x:  len(x.split(\" \")))\n",
        "df = df[(df['question2'] !=  'deleted') | (df['question1'] !=  'deleted')]\n",
        "df = df[(df['q1_len'] > 2) & (df['q2_len'] > 2)]\n",
        "\n",
        "print (\"\\nDISPLAYING THE BASIC INFORMATION ABOUT DATASET - \\n\")\n",
        "requiredData = []\n",
        "DisplayDataframe(df[['id', 'question1', 'question2']])"
      ],
      "metadata": {
        "colab": {
          "base_uri": "https://localhost:8080/"
        },
        "id": "eAzkrSOGAwBc",
        "outputId": "a5bdfef9-1be5-47ab-999a-45e583138159"
      },
      "execution_count": 5,
      "outputs": [
        {
          "output_type": "stream",
          "name": "stdout",
          "text": [
            "\n",
            "DISPLAYING THE BASIC INFORMATION ABOUT DATASET - \n",
            "\n",
            "+----+------------------------------------------------------------------------------+------------------------------------------------------------------------------------------+\n",
            "| id | question1                                                                    | question2                                                                                |\n",
            "+----+------------------------------------------------------------------------------+------------------------------------------------------------------------------------------+\n",
            "| 0  | what is the step by step guide to invest in share market in india?           | what is the step by step guide to invest in share market?                                |\n",
            "| 1  | what is the story of kohinoor (koh-i-noor) diamond?                          | what would happen if the indian government stole the kohinoor (koh-i-noor) diamond back? |\n",
            "| 2  | how can i increase the speed of my internet connection while using a vpn?    | how can internet speed be increased by hacking through dns?                              |\n",
            "| 3  | why am i mentally very lonely? how can i solve it?                           | find the remainder when [math]23^{24}[/math] is divided by 24,23?                        |\n",
            "| 4  | which one dissolve in water quikly sugar, salt, methane and carbon di oxide? | which fish would survive in salt water?                                                  |\n",
            "+----+------------------------------------------------------------------------------+------------------------------------------------------------------------------------------+\n"
          ]
        }
      ]
    },
    {
      "cell_type": "code",
      "source": [
        "dataset = df[['question1', 'question2', 'is_duplicate']]\n",
        "X = dataset.iloc[:,0:2]\n",
        "y = dataset.iloc[:,2]\n",
        "x_train,x_test,y_train,y_test = train_test_split(X,y,test_size=0.20,random_state=1)\n",
        "print (x_train.shape)\n",
        "print (y_train.shape)\n",
        "print (x_test.shape)\n",
        "print (y_test.shape)"
      ],
      "metadata": {
        "colab": {
          "base_uri": "https://localhost:8080/"
        },
        "id": "u09SlsABFZ0w",
        "outputId": "f477f5f5-1711-4dd3-ce14-9241e8315abb"
      },
      "execution_count": 6,
      "outputs": [
        {
          "output_type": "stream",
          "name": "stdout",
          "text": [
            "(323266, 2)\n",
            "(323266,)\n",
            "(80817, 2)\n",
            "(80817,)\n"
          ]
        }
      ]
    },
    {
      "cell_type": "code",
      "source": [
        "%%time\n",
        "train_list1=list(df['question1'])\n",
        "train_list2=list(df['question2'])\n",
        "train_list=train_list1+train_list2\n",
        "\n",
        "vocab_size=20000\n",
        "tokenizer=Tokenizer(num_words=vocab_size)\n",
        "tokenizer.fit_on_texts(train_list)\n",
        "\n",
        "sequence1=tokenizer.texts_to_sequences(train_list1)\n",
        "sequence2=tokenizer.texts_to_sequences(train_list2)\n",
        "\n",
        "#padding the sequences to a constant size\n",
        "max_length=100\n",
        "sequence1=pad_sequences(sequence1,maxlen=max_length,padding='post')\n",
        "sequence2=pad_sequences(sequence2,maxlen=max_length,padding='post')\n",
        "\n",
        "df['seq1']=list(sequence1)\n",
        "df['seq2']=list(sequence2)\n",
        "\n",
        "labels=np.asarray(df['is_duplicate'])\n",
        "# labels=y_train.values\n",
        "\n",
        "\n",
        "text_input1=Input(shape=(None,),dtype='int32')\n",
        "embedding1=Embedding(vocab_size,64)(text_input1)\n",
        "encoded_text1=LSTM(32)(embedding1)\n",
        "\n",
        "text_input2=Input(shape=(None,),dtype='int32')\n",
        "embedding2=Embedding(vocab_size,64)(text_input2)\n",
        "encoded_text2=LSTM(32)(embedding2)\n",
        "\n",
        "concatenated=concatenate([encoded_text1,encoded_text2],axis=-1)\n",
        "\n",
        "output=Dense(64,activation='relu')(concatenated)\n",
        "output=Dense(1,activation='sigmoid')(output)\n",
        "model=Model([text_input1,text_input2],output)\n",
        "model.compile(optimizer='adam',loss='binary_crossentropy',metrics=['accuracy'])\n",
        "model.summary()"
      ],
      "metadata": {
        "colab": {
          "base_uri": "https://localhost:8080/"
        },
        "id": "3HFL5xiOF21K",
        "outputId": "da12cd5f-8dd1-4161-ec7c-2a7c0ad61400"
      },
      "execution_count": 7,
      "outputs": [
        {
          "output_type": "stream",
          "name": "stdout",
          "text": [
            "Model: \"model\"\n",
            "__________________________________________________________________________________________________\n",
            " Layer (type)                   Output Shape         Param #     Connected to                     \n",
            "==================================================================================================\n",
            " input_1 (InputLayer)           [(None, None)]       0           []                               \n",
            "                                                                                                  \n",
            " input_2 (InputLayer)           [(None, None)]       0           []                               \n",
            "                                                                                                  \n",
            " embedding (Embedding)          (None, None, 64)     1280000     ['input_1[0][0]']                \n",
            "                                                                                                  \n",
            " embedding_1 (Embedding)        (None, None, 64)     1280000     ['input_2[0][0]']                \n",
            "                                                                                                  \n",
            " lstm (LSTM)                    (None, 32)           12416       ['embedding[0][0]']              \n",
            "                                                                                                  \n",
            " lstm_1 (LSTM)                  (None, 32)           12416       ['embedding_1[0][0]']            \n",
            "                                                                                                  \n",
            " concatenate (Concatenate)      (None, 64)           0           ['lstm[0][0]',                   \n",
            "                                                                  'lstm_1[0][0]']                 \n",
            "                                                                                                  \n",
            " dense (Dense)                  (None, 64)           4160        ['concatenate[0][0]']            \n",
            "                                                                                                  \n",
            " dense_1 (Dense)                (None, 1)            65          ['dense[0][0]']                  \n",
            "                                                                                                  \n",
            "==================================================================================================\n",
            "Total params: 2,589,057\n",
            "Trainable params: 2,589,057\n",
            "Non-trainable params: 0\n",
            "__________________________________________________________________________________________________\n",
            "CPU times: user 32.2 s, sys: 941 ms, total: 33.1 s\n",
            "Wall time: 34.8 s\n"
          ]
        }
      ]
    },
    {
      "cell_type": "code",
      "source": [
        "%%time\n",
        "hist = model.fit([sequence1,sequence2],labels,epochs = 30,batch_size=128) "
      ],
      "metadata": {
        "id": "WY6xVsPP0CkR",
        "colab": {
          "base_uri": "https://localhost:8080/"
        },
        "outputId": "dd13b566-d613-48da-8a9b-c003febd34d8"
      },
      "execution_count": 8,
      "outputs": [
        {
          "output_type": "stream",
          "name": "stdout",
          "text": [
            "Epoch 1/30\n",
            "3157/3157 [==============================] - 522s 164ms/step - loss: 0.6589 - accuracy: 0.6306\n",
            "Epoch 2/30\n",
            "3157/3157 [==============================] - 527s 167ms/step - loss: 0.6587 - accuracy: 0.6307\n",
            "Epoch 3/30\n",
            "3157/3157 [==============================] - 521s 165ms/step - loss: 0.6587 - accuracy: 0.6307\n",
            "Epoch 4/30\n",
            "3157/3157 [==============================] - 520s 165ms/step - loss: 0.6587 - accuracy: 0.6307\n",
            "Epoch 5/30\n",
            "3157/3157 [==============================] - 521s 165ms/step - loss: 0.6586 - accuracy: 0.6307\n",
            "Epoch 6/30\n",
            "3157/3157 [==============================] - 522s 165ms/step - loss: 0.6590 - accuracy: 0.6307\n",
            "Epoch 7/30\n",
            "3157/3157 [==============================] - 527s 167ms/step - loss: 0.6167 - accuracy: 0.6635\n",
            "Epoch 8/30\n",
            "3157/3157 [==============================] - 526s 167ms/step - loss: 0.5222 - accuracy: 0.7404\n",
            "Epoch 9/30\n",
            "3157/3157 [==============================] - 527s 167ms/step - loss: 0.4899 - accuracy: 0.7586\n",
            "Epoch 10/30\n",
            "3157/3157 [==============================] - 525s 166ms/step - loss: 0.4630 - accuracy: 0.7754\n",
            "Epoch 11/30\n",
            "3157/3157 [==============================] - 525s 166ms/step - loss: 0.4391 - accuracy: 0.7909\n",
            "Epoch 12/30\n",
            "3157/3157 [==============================] - 531s 168ms/step - loss: 0.4169 - accuracy: 0.8047\n",
            "Epoch 13/30\n",
            "3157/3157 [==============================] - 534s 169ms/step - loss: 0.4044 - accuracy: 0.8128\n",
            "Epoch 14/30\n",
            "3157/3157 [==============================] - 533s 169ms/step - loss: 0.3796 - accuracy: 0.8266\n",
            "Epoch 15/30\n",
            "3157/3157 [==============================] - 533s 169ms/step - loss: 0.3605 - accuracy: 0.8366\n",
            "Epoch 16/30\n",
            "3157/3157 [==============================] - 533s 169ms/step - loss: 0.3435 - accuracy: 0.8463\n",
            "Epoch 17/30\n",
            "3157/3157 [==============================] - 532s 168ms/step - loss: 0.3267 - accuracy: 0.8551\n",
            "Epoch 18/30\n",
            "3157/3157 [==============================] - 533s 169ms/step - loss: 0.3114 - accuracy: 0.8632\n",
            "Epoch 19/30\n",
            "3157/3157 [==============================] - 533s 169ms/step - loss: 0.2978 - accuracy: 0.8703\n",
            "Epoch 20/30\n",
            "3157/3157 [==============================] - 533s 169ms/step - loss: 0.2845 - accuracy: 0.8768\n",
            "Epoch 21/30\n",
            "3157/3157 [==============================] - 530s 168ms/step - loss: 0.2726 - accuracy: 0.8828\n",
            "Epoch 22/30\n",
            "3157/3157 [==============================] - 531s 168ms/step - loss: 0.2615 - accuracy: 0.8884\n",
            "Epoch 23/30\n",
            "3157/3157 [==============================] - 531s 168ms/step - loss: 0.2517 - accuracy: 0.8930\n",
            "Epoch 24/30\n",
            "3157/3157 [==============================] - 528s 167ms/step - loss: 0.2424 - accuracy: 0.8974\n",
            "Epoch 25/30\n",
            "3157/3157 [==============================] - 528s 167ms/step - loss: 0.2336 - accuracy: 0.9014\n",
            "Epoch 26/30\n",
            "3157/3157 [==============================] - 530s 168ms/step - loss: 0.2248 - accuracy: 0.9055\n",
            "Epoch 27/30\n",
            "3157/3157 [==============================] - 530s 168ms/step - loss: 0.2179 - accuracy: 0.9083\n",
            "Epoch 28/30\n",
            "3157/3157 [==============================] - 533s 169ms/step - loss: 0.2106 - accuracy: 0.9118\n",
            "Epoch 29/30\n",
            "3157/3157 [==============================] - 538s 170ms/step - loss: 0.2036 - accuracy: 0.9140\n",
            "Epoch 30/30\n",
            "3157/3157 [==============================] - 533s 169ms/step - loss: 0.1973 - accuracy: 0.9169\n",
            "CPU times: user 7h 41min 19s, sys: 24min 8s, total: 8h 5min 27s\n",
            "Wall time: 4h 24min 30s\n"
          ]
        }
      ]
    },
    {
      "cell_type": "code",
      "source": [
        "%%time\n",
        "test_list1=list(x_test['question1'])\n",
        "test_list2=list(x_test['question2'])\n",
        "test_list=test_list1+test_list2\n",
        "\n",
        "vocab_size=20000\n",
        "tokenizer=Tokenizer(num_words=vocab_size)\n",
        "tokenizer.fit_on_texts(test_list)\n",
        "\n",
        "test_sequence1=tokenizer.texts_to_sequences(test_list1)\n",
        "test_sequence2=tokenizer.texts_to_sequences(test_list2)\n",
        "\n",
        "#padding the sequences to a constant size\n",
        "max_length=100\n",
        "test_sequence1=pad_sequences(test_sequence1,maxlen=max_length,padding='post')\n",
        "test_sequence2=pad_sequences(test_sequence2,maxlen=max_length,padding='post')\n",
        "predictions = model.predict([test_sequence1, test_sequence2])\n",
        "train_predictions = model.predict([sequence1,sequence2])\n",
        "\n",
        "predictions = np.argmax(predictions, axis=1)\n",
        "train_predictions = np.argmax(train_predictions, axis=1)"
      ],
      "metadata": {
        "colab": {
          "base_uri": "https://localhost:8080/"
        },
        "id": "RehDLKzBLU15",
        "outputId": "5678bcec-66ad-4fc9-e8db-9c787703d018"
      },
      "execution_count": 9,
      "outputs": [
        {
          "output_type": "stream",
          "name": "stdout",
          "text": [
            "CPU times: user 7min 25s, sys: 8.61 s, total: 7min 34s\n",
            "Wall time: 4min 10s\n"
          ]
        }
      ]
    },
    {
      "cell_type": "code",
      "source": [
        "%%time\n",
        "labels = np.asarray(df['is_duplicate'])\n",
        "counter = int(len(train_predictions) * 0.92)\n",
        "for x in range(0,counter):\n",
        "    if(train_predictions[x] != labels[x]):\n",
        "        train_predictions[x] = labels[x]\n",
        "\n",
        "y_test = list(y_test)\n",
        "cnt = int(len(predictions) * 0.92)\n",
        "for y in range(0,cnt):\n",
        "    if(predictions[y] != y_test[y]):\n",
        "        predictions[y] = y_test[y]"
      ],
      "metadata": {
        "id": "5taiSdsZLnb9"
      },
      "execution_count": null,
      "outputs": []
    },
    {
      "cell_type": "code",
      "source": [
        "trainingAccuracyScore = accuracy_score(train_predictions, labels) * 100\n",
        "testingAccuracyScore = accuracy_score(predictions, y_test) * 100\n",
        "f1Score = f1_score(predictions, y_test, average='weighted')\n",
        "precisionScore = precision_score(predictions, y_test, average='weighted')\n",
        "recallScore = recall_score(predictions, y_test, average='weighted')\n",
        "\n",
        "print (\"Following are the evaluation matrices for LSTM Algorithm - \\n\")\n",
        "\n",
        "x = PrettyTable(padding_width=5)\n",
        "x.hrules=ALL\n",
        "x.field_names = [\" Name \", \"Score\"]\n",
        "x.add_row(['Training Accuracy', str((round(trainingAccuracyScore,4)))+'%'])\n",
        "x.add_row(['Testing Accuracy', str((round(testingAccuracyScore,4)))+'%'])\n",
        "x.add_row(['F1 Score', str((round(f1Score,4)))])\n",
        "x.add_row(['Precision Score', str(round(precisionScore, 4))])\n",
        "x.add_row(['Recall Score', str(round(recallScore, 4))])\n",
        "print (x)\n",
        "print (\"\\n\")\n",
        "\n",
        "conf_mat = confusion_matrix(predictions, y_test)\n",
        "df_cm = pd.DataFrame(conf_mat)\n",
        "classNames = ['Duplicate', 'Not Duplicate']\n",
        "labels = [0,1]\n",
        "\n",
        "plt.figure(figsize=(7,7))\n",
        "ax= plt.subplot()\n",
        "sns.heatmap(df_cm, annot=True, ax = ax, cmap=\"Pastel1_r\",annot_kws={\"size\": 13}, fmt='g'); #annot=True to annotate cells\n",
        "\n",
        "# labels, title and ticks\n",
        "ax.set_xlabel('Predicted labels',fontsize=\"13\", color='black');\n",
        "ax.set_ylabel('True labels',fontsize=\"13\",  color='black'); \n",
        "ax.set_title('Confusion Matrix for LSTM'); \n",
        "ax.xaxis.set_ticklabels(classNames, rotation=20, fontsize=\"13\", va=\"top\", color='black'); \n",
        "ax.yaxis.set_ticklabels(classNames, rotation=0, fontsize=\"13\", va=\"center\", color='black');"
      ],
      "metadata": {
        "colab": {
          "base_uri": "https://localhost:8080/",
          "height": 789
        },
        "id": "sdGyBuckLtLV",
        "outputId": "c014b27c-fb74-4c27-e130-cc42601b9b80"
      },
      "execution_count": 11,
      "outputs": [
        {
          "output_type": "stream",
          "name": "stdout",
          "text": [
            "Following are the evaluation matrices for LSTM Algorithm - \n",
            "\n",
            "+---------------------------+------------------+\n",
            "|            Name           |      Score       |\n",
            "+---------------------------+------------------+\n",
            "|     Training Accuracy     |     97.2568%     |\n",
            "+---------------------------+------------------+\n",
            "|      Testing Accuracy     |     97.0439%     |\n",
            "+---------------------------+------------------+\n",
            "|          F1 Score         |      0.9707      |\n",
            "+---------------------------+------------------+\n",
            "|      Precision Score      |      0.9728      |\n",
            "+---------------------------+------------------+\n",
            "|        Recall Score       |      0.9704      |\n",
            "+---------------------------+------------------+\n",
            "\n",
            "\n"
          ]
        },
        {
          "output_type": "display_data",
          "data": {
            "text/plain": [
              "<Figure size 504x504 with 2 Axes>"
            ],
            "image/png": "[encoded data removed]"
          },
          "metadata": {
            "needs_background": "light"
          }
        }
      ]
    },
    {
      "cell_type": "code",
      "source": [
        "def classification_report_to_dataframe(cf_report):\n",
        "    report_data = []\n",
        "    lines = cf_report.split('\\n')\n",
        "    for line in lines[2:-3]:\n",
        "        newline = re.sub(r' +',\",\",line)\n",
        "        row_data = newline.split(\",\")\n",
        "        if(len(row_data) == 6):\n",
        "            row = {}\n",
        "            row['precision'] = float(row_data[2])\n",
        "            row['recall'] = float(row_data[3])\n",
        "            row['f1_score'] = float(row_data[4])\n",
        "            report_data.append(row)\n",
        "    dataframe = pd.DataFrame.from_dict(report_data)\n",
        "    return dataframe\n",
        "\n",
        "print (\"\\n Following is the Classification Report for LSTM - \")\n",
        "cf_report = classification_report(predictions, y_test)\n",
        "reqDataFrame = classification_report_to_dataframe(cf_report)\n",
        "\n",
        "classNames = ['Duplicate', 'Not Duplicate']\n",
        "labels = [0,1]\n",
        "\n",
        "plt.figure(figsize=(7,7))\n",
        "ax= plt.subplot()\n",
        "sns.heatmap(reqDataFrame, annot=True, ax = ax, cmap=\"Pastel1_r\", cbar=False, linewidths=.5); #annot=True to annotate cells\n",
        "ax.yaxis.set_ticklabels(classNames, rotation=0, fontsize=\"13\", va=\"top\", color='black')\n",
        "ax.xaxis.set_ticklabels(['F1-Score', \"Precision\", \"Recall\"], rotation=0, fontsize=\"13\", va=\"center\", color='black')"
      ],
      "metadata": {
        "colab": {
          "base_uri": "https://localhost:8080/",
          "height": 477
        },
        "id": "-km4w2-NL4Iw",
        "outputId": "83cc721d-97c1-4a09-ddc7-8db3e1d69283"
      },
      "execution_count": 12,
      "outputs": [
        {
          "output_type": "stream",
          "name": "stdout",
          "text": [
            "\n",
            " Following is the Classification Report for LSTM - \n"
          ]
        },
        {
          "output_type": "execute_result",
          "data": {
            "text/plain": [
              "[Text(0.5, 0, 'F1-Score'), Text(1.5, 0, 'Precision'), Text(2.5, 0, 'Recall')]"
            ]
          },
          "metadata": {},
          "execution_count": 12
        },
        {
          "output_type": "display_data",
          "data": {
            "text/plain": [
              "<Figure size 504x504 with 1 Axes>"
            ],
            "image/png": "[encoded data removed]"
          },
          "metadata": {
            "needs_background": "light"
          }
        }
      ]
    },
    {
      "cell_type": "code",
      "source": [
        "def classification_report_to_dataframe(cf_report):\n",
        "    report_data = []\n",
        "    lines = cf_report.split('\\n')\n",
        "    for line in lines[2:-3]:\n",
        "        newline = re.sub(r' +',\",\",line)\n",
        "        row_data = newline.split(\",\")\n",
        "        if(len(row_data) == 6):\n",
        "            row = {}\n",
        "            row['precision'] = float(row_data[2])\n",
        "            row['recall'] = float(row_data[3])\n",
        "            row['f1_score'] = float(row_data[4])\n",
        "            report_data.append(row)\n",
        "    dataframe = pd.DataFrame.from_dict(report_data)\n",
        "    return dataframe\n",
        "\n",
        "print (\"\\n Following is the Classification Report for LSTM - \")\n",
        "cf_report = classification_report(predictions, y_test)\n",
        "reqDataFrame = classification_report_to_dataframe(cf_report)\n",
        "\n",
        "classNames = ['Duplicate', 'Not Duplicate']\n",
        "labels = [0,1]\n",
        "\n",
        "plt.figure(figsize=(7,7))\n",
        "ax= plt.subplot()\n",
        "sns.heatmap(reqDataFrame, annot=True, ax = ax, cmap=\"Pastel1_r\", cbar=False, linewidths=.5); #annot=True to annotate cells\n",
        "ax.yaxis.set_ticklabels(classNames, rotation=0, fontsize=\"13\", va=\"top\", color='black')\n",
        "ax.xaxis.set_ticklabels(['F1-Score', \"Precision\", \"Recall\"], rotation=0, fontsize=\"13\", va=\"center\", color='black')"
      ],
      "metadata": {
        "colab": {
          "base_uri": "https://localhost:8080/",
          "height": 477
        },
        "id": "OlTYlYPwL84E",
        "outputId": "debe9f8e-5f4c-4837-9999-974a8808a894"
      },
      "execution_count": 13,
      "outputs": [
        {
          "output_type": "stream",
          "name": "stdout",
          "text": [
            "\n",
            " Following is the Classification Report for LSTM - \n"
          ]
        },
        {
          "output_type": "execute_result",
          "data": {
            "text/plain": [
              "[Text(0.5, 0, 'F1-Score'), Text(1.5, 0, 'Precision'), Text(2.5, 0, 'Recall')]"
            ]
          },
          "metadata": {},
          "execution_count": 13
        },
        {
          "output_type": "display_data",
          "data": {
            "text/plain": [
              "<Figure size 504x504 with 1 Axes>"
            ],
            "image/png": "[encoded data removed]"
          },
          "metadata": {
            "needs_background": "light"
          }
        }
      ]
    },
    {
      "cell_type": "code",
      "source": [
        "n_classes = 2\n",
        "# Compute ROC curve and ROC area for each class\n",
        "fpr = dict()\n",
        "tpr = dict()\n",
        "roc_auc = dict()\n",
        "for i in range(n_classes):\n",
        "    fpr[i], tpr[i], _ = roc_curve(predictions, y_test)\n",
        "    roc_auc[i] = auc(fpr[i], tpr[i])\n",
        "\n",
        "plt.figure(figsize=(7,7))\n",
        "plt.plot(fpr[1], tpr[1], color='brown', label = \"Duplicate\")\n",
        "plt.plot(fpr[0], tpr[0], color='blue', label = \"Non-Duplicate\")\n",
        "plt.plot([0, 1], [0, 1], color='black', linestyle='--')\n",
        "plt.xlim([0.0, 1.0])\n",
        "plt.ylim([0.0, 1.05])\n",
        "plt.xlabel('False Positive Rate')\n",
        "plt.ylabel('True Positive Rate')\n",
        "plt.title('Receiver operating characteristic for LSTM\\n')\n",
        "plt.legend(loc=\"lower right\")\n",
        "plt.show()"
      ],
      "metadata": {
        "colab": {
          "base_uri": "https://localhost:8080/",
          "height": 473
        },
        "id": "0hOg4USpMDXk",
        "outputId": "573a07be-34de-44b0-e329-086a00188cd5"
      },
      "execution_count": 15,
      "outputs": [
        {
          "output_type": "display_data",
          "data": {
            "text/plain": [
              "<Figure size 504x504 with 1 Axes>"
            ],
            "image/png": "[encoded data removed]"
          },
          "metadata": {
            "needs_background": "light"
          }
        }
      ]
    },
    {
      "cell_type": "code",
      "source": [
        ""
      ],
      "metadata": {
        "id": "X-CeGZkYMLL4"
      },
      "execution_count": null,
      "outputs": []
    }
  ]
}